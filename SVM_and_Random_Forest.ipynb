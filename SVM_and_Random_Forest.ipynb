{
  "nbformat": 4,
  "nbformat_minor": 0,
  "metadata": {
    "colab": {
      "name": "SVM_and_Random_Forest.ipynb",
      "provenance": [],
      "collapsed_sections": []
    },
    "kernelspec": {
      "name": "python3",
      "display_name": "Python 3"
    }
  },
  "cells": [
    {
      "cell_type": "code",
      "metadata": {
        "id": "ZwOO9i_QZr78"
      },
      "source": [
        "# # Data Preprocessing\n",
        "# Importing the libraries\n",
        "import numpy as np\n",
        "import matplotlib.pyplot as plt\n",
        "import pandas as pd"
      ],
      "execution_count": null,
      "outputs": []
    },
    {
      "cell_type": "code",
      "metadata": {
        "id": "OxeuvVHyPz7l",
        "colab": {
          "base_uri": "https://localhost:8080/"
        },
        "outputId": "00e56c8d-d566-45e0-a0b6-2f74533be0eb"
      },
      "source": [
        "!pip install -U scikit-learn"
      ],
      "execution_count": null,
      "outputs": [
        {
          "output_type": "stream",
          "text": [
            "Collecting scikit-learn\n",
            "\u001b[?25l  Downloading https://files.pythonhosted.org/packages/f3/74/eb899f41d55f957e2591cde5528e75871f817d9fb46d4732423ecaca736d/scikit_learn-0.24.1-cp37-cp37m-manylinux2010_x86_64.whl (22.3MB)\n",
            "\u001b[K     |████████████████████████████████| 22.3MB 1.3MB/s \n",
            "\u001b[?25hRequirement already satisfied, skipping upgrade: numpy>=1.13.3 in /usr/local/lib/python3.7/dist-packages (from scikit-learn) (1.19.5)\n",
            "Requirement already satisfied, skipping upgrade: joblib>=0.11 in /usr/local/lib/python3.7/dist-packages (from scikit-learn) (1.0.1)\n",
            "Collecting threadpoolctl>=2.0.0\n",
            "  Downloading https://files.pythonhosted.org/packages/f7/12/ec3f2e203afa394a149911729357aa48affc59c20e2c1c8297a60f33f133/threadpoolctl-2.1.0-py3-none-any.whl\n",
            "Requirement already satisfied, skipping upgrade: scipy>=0.19.1 in /usr/local/lib/python3.7/dist-packages (from scikit-learn) (1.4.1)\n",
            "Installing collected packages: threadpoolctl, scikit-learn\n",
            "  Found existing installation: scikit-learn 0.22.2.post1\n",
            "    Uninstalling scikit-learn-0.22.2.post1:\n",
            "      Successfully uninstalled scikit-learn-0.22.2.post1\n",
            "Successfully installed scikit-learn-0.24.1 threadpoolctl-2.1.0\n"
          ],
          "name": "stdout"
        }
      ]
    },
    {
      "cell_type": "code",
      "metadata": {
        "id": "lD_3n06WP5QV",
        "colab": {
          "base_uri": "https://localhost:8080/"
        },
        "outputId": "9642e10b-770f-4061-b13d-124b5a6296c4"
      },
      "source": [
        "import sklearn\n",
        "print(sklearn.__version__)"
      ],
      "execution_count": null,
      "outputs": [
        {
          "output_type": "stream",
          "text": [
            "0.24.1\n"
          ],
          "name": "stdout"
        }
      ]
    },
    {
      "cell_type": "code",
      "metadata": {
        "id": "A4Qo-Jl2aG_j",
        "colab": {
          "base_uri": "https://localhost:8080/"
        },
        "outputId": "90285abc-7669-4281-e495-1a244a4121fe"
      },
      "source": [
        "# Mounting Google Drive\n",
        "from google.colab import drive\n",
        "drive.mount('/content/drive')"
      ],
      "execution_count": null,
      "outputs": [
        {
          "output_type": "stream",
          "text": [
            "Mounted at /content/drive\n"
          ],
          "name": "stdout"
        }
      ]
    },
    {
      "cell_type": "code",
      "metadata": {
        "id": "3HnItOnpPkgs",
        "colab": {
          "resources": {
            "http://localhost:8080/nbextensions/google.colab/files.js": {
              "data": "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",
              "ok": true,
              "headers": [
                [
                  "content-type",
                  "application/javascript"
                ]
              ],
              "status": 200,
              "status_text": ""
            }
          },
          "base_uri": "https://localhost:8080/",
          "height": 73
        },
        "outputId": "4774a335-83b9-47a4-8a1f-f18d49c90a0d"
      },
      "source": [
        "# importing Dataset from Local drive\n",
        "from google.colab import files\n",
        "Uploaded=files.upload()"
      ],
      "execution_count": null,
      "outputs": [
        {
          "output_type": "display_data",
          "data": {
            "text/html": [
              "\n",
              "     <input type=\"file\" id=\"files-b2ee2525-67a0-4dfd-8caa-62560ef59420\" name=\"files[]\" multiple disabled\n",
              "        style=\"border:none\" />\n",
              "     <output id=\"result-b2ee2525-67a0-4dfd-8caa-62560ef59420\">\n",
              "      Upload widget is only available when the cell has been executed in the\n",
              "      current browser session. Please rerun this cell to enable.\n",
              "      </output>\n",
              "      <script src=\"/nbextensions/google.colab/files.js\"></script> "
            ],
            "text/plain": [
              "<IPython.core.display.HTML object>"
            ]
          },
          "metadata": {
            "tags": []
          }
        },
        {
          "output_type": "stream",
          "text": [
            "Saving Social_Network_Ads.csv to Social_Network_Ads.csv\n"
          ],
          "name": "stdout"
        }
      ]
    },
    {
      "cell_type": "code",
      "metadata": {
        "id": "OnvM0nbpFR27"
      },
      "source": [
        "# Importing the dataset from Google Drive\n",
        "dataset = pd.read_csv('Social_Network_Ads.csv')"
      ],
      "execution_count": null,
      "outputs": []
    },
    {
      "cell_type": "code",
      "metadata": {
        "id": "nWZK_f-VaxXO",
        "colab": {
          "base_uri": "https://localhost:8080/"
        },
        "outputId": "ef4130f9-31a5-44b3-bf44-b4dcfec097f1"
      },
      "source": [
        "print(dataset)"
      ],
      "execution_count": null,
      "outputs": [
        {
          "output_type": "stream",
          "text": [
            "      User ID  Gender  Age  EstimatedSalary  Purchased\n",
            "0    15624510    Male   19            19000          0\n",
            "1    15810944    Male   35            20000          0\n",
            "2    15668575  Female   26            43000          0\n",
            "3    15603246  Female   27            57000          0\n",
            "4    15804002    Male   19            76000          0\n",
            "..        ...     ...  ...              ...        ...\n",
            "395  15691863  Female   46            41000          1\n",
            "396  15706071    Male   51            23000          1\n",
            "397  15654296  Female   50            20000          1\n",
            "398  15755018    Male   36            33000          0\n",
            "399  15594041  Female   49            36000          1\n",
            "\n",
            "[400 rows x 5 columns]\n"
          ],
          "name": "stdout"
        }
      ]
    },
    {
      "cell_type": "code",
      "metadata": {
        "id": "-zxDL2iCi96H",
        "colab": {
          "base_uri": "https://localhost:8080/"
        },
        "outputId": "00549463-6ebd-43d8-b89b-4a441d0e9987"
      },
      "source": [
        "#Print Total number of Rows & columns in dataset\n",
        "print(dataset.shape)"
      ],
      "execution_count": null,
      "outputs": [
        {
          "output_type": "stream",
          "text": [
            "(400, 5)\n"
          ],
          "name": "stdout"
        }
      ]
    },
    {
      "cell_type": "code",
      "metadata": {
        "id": "tu9X2F2mjFwo",
        "colab": {
          "base_uri": "https://localhost:8080/"
        },
        "outputId": "629c50f9-2e6b-4a89-d046-1d1b7dca4602"
      },
      "source": [
        "#Print Imformation about data\n",
        "dataset.info()"
      ],
      "execution_count": null,
      "outputs": [
        {
          "output_type": "stream",
          "text": [
            "<class 'pandas.core.frame.DataFrame'>\n",
            "RangeIndex: 400 entries, 0 to 399\n",
            "Data columns (total 5 columns):\n",
            " #   Column           Non-Null Count  Dtype \n",
            "---  ------           --------------  ----- \n",
            " 0   User ID          400 non-null    int64 \n",
            " 1   Gender           400 non-null    object\n",
            " 2   Age              400 non-null    int64 \n",
            " 3   EstimatedSalary  400 non-null    int64 \n",
            " 4   Purchased        400 non-null    int64 \n",
            "dtypes: int64(4), object(1)\n",
            "memory usage: 15.8+ KB\n"
          ],
          "name": "stdout"
        }
      ]
    },
    {
      "cell_type": "code",
      "metadata": {
        "colab": {
          "base_uri": "https://localhost:8080/"
        },
        "id": "uS_WcoM8qVo9",
        "outputId": "1c79e703-85f1-4a41-edb6-98bbc55f1fb4"
      },
      "source": [
        "dataset.isnull().sum()"
      ],
      "execution_count": null,
      "outputs": [
        {
          "output_type": "execute_result",
          "data": {
            "text/plain": [
              "User ID            0\n",
              "Gender             0\n",
              "Age                0\n",
              "EstimatedSalary    0\n",
              "Purchased          0\n",
              "dtype: int64"
            ]
          },
          "metadata": {
            "tags": []
          },
          "execution_count": 10
        }
      ]
    },
    {
      "cell_type": "code",
      "metadata": {
        "colab": {
          "base_uri": "https://localhost:8080/",
          "height": 294
        },
        "id": "1BBVmtB6qkew",
        "outputId": "54c879ea-1402-468c-b9b4-d702a8450fa7"
      },
      "source": [
        "dataset.describe()"
      ],
      "execution_count": null,
      "outputs": [
        {
          "output_type": "execute_result",
          "data": {
            "text/html": [
              "<div>\n",
              "<style scoped>\n",
              "    .dataframe tbody tr th:only-of-type {\n",
              "        vertical-align: middle;\n",
              "    }\n",
              "\n",
              "    .dataframe tbody tr th {\n",
              "        vertical-align: top;\n",
              "    }\n",
              "\n",
              "    .dataframe thead th {\n",
              "        text-align: right;\n",
              "    }\n",
              "</style>\n",
              "<table border=\"1\" class=\"dataframe\">\n",
              "  <thead>\n",
              "    <tr style=\"text-align: right;\">\n",
              "      <th></th>\n",
              "      <th>User ID</th>\n",
              "      <th>Age</th>\n",
              "      <th>EstimatedSalary</th>\n",
              "      <th>Purchased</th>\n",
              "    </tr>\n",
              "  </thead>\n",
              "  <tbody>\n",
              "    <tr>\n",
              "      <th>count</th>\n",
              "      <td>4.000000e+02</td>\n",
              "      <td>400.000000</td>\n",
              "      <td>400.000000</td>\n",
              "      <td>400.000000</td>\n",
              "    </tr>\n",
              "    <tr>\n",
              "      <th>mean</th>\n",
              "      <td>1.569154e+07</td>\n",
              "      <td>37.655000</td>\n",
              "      <td>69742.500000</td>\n",
              "      <td>0.357500</td>\n",
              "    </tr>\n",
              "    <tr>\n",
              "      <th>std</th>\n",
              "      <td>7.165832e+04</td>\n",
              "      <td>10.482877</td>\n",
              "      <td>34096.960282</td>\n",
              "      <td>0.479864</td>\n",
              "    </tr>\n",
              "    <tr>\n",
              "      <th>min</th>\n",
              "      <td>1.556669e+07</td>\n",
              "      <td>18.000000</td>\n",
              "      <td>15000.000000</td>\n",
              "      <td>0.000000</td>\n",
              "    </tr>\n",
              "    <tr>\n",
              "      <th>25%</th>\n",
              "      <td>1.562676e+07</td>\n",
              "      <td>29.750000</td>\n",
              "      <td>43000.000000</td>\n",
              "      <td>0.000000</td>\n",
              "    </tr>\n",
              "    <tr>\n",
              "      <th>50%</th>\n",
              "      <td>1.569434e+07</td>\n",
              "      <td>37.000000</td>\n",
              "      <td>70000.000000</td>\n",
              "      <td>0.000000</td>\n",
              "    </tr>\n",
              "    <tr>\n",
              "      <th>75%</th>\n",
              "      <td>1.575036e+07</td>\n",
              "      <td>46.000000</td>\n",
              "      <td>88000.000000</td>\n",
              "      <td>1.000000</td>\n",
              "    </tr>\n",
              "    <tr>\n",
              "      <th>max</th>\n",
              "      <td>1.581524e+07</td>\n",
              "      <td>60.000000</td>\n",
              "      <td>150000.000000</td>\n",
              "      <td>1.000000</td>\n",
              "    </tr>\n",
              "  </tbody>\n",
              "</table>\n",
              "</div>"
            ],
            "text/plain": [
              "            User ID         Age  EstimatedSalary   Purchased\n",
              "count  4.000000e+02  400.000000       400.000000  400.000000\n",
              "mean   1.569154e+07   37.655000     69742.500000    0.357500\n",
              "std    7.165832e+04   10.482877     34096.960282    0.479864\n",
              "min    1.556669e+07   18.000000     15000.000000    0.000000\n",
              "25%    1.562676e+07   29.750000     43000.000000    0.000000\n",
              "50%    1.569434e+07   37.000000     70000.000000    0.000000\n",
              "75%    1.575036e+07   46.000000     88000.000000    1.000000\n",
              "max    1.581524e+07   60.000000    150000.000000    1.000000"
            ]
          },
          "metadata": {
            "tags": []
          },
          "execution_count": 11
        }
      ]
    },
    {
      "cell_type": "code",
      "metadata": {
        "id": "tsRc4pHha9aC"
      },
      "source": [
        "# Extracting dependent and independent variables:\n",
        "# Extracting independent variable:\n",
        "X = dataset.iloc[:, 2:4].values\n",
        "# Extracting dependent variable:\n",
        "y = dataset.iloc[:, 4].values\n"
      ],
      "execution_count": null,
      "outputs": []
    },
    {
      "cell_type": "code",
      "metadata": {
        "id": "VWqeqy-1bL4U",
        "colab": {
          "base_uri": "https://localhost:8080/"
        },
        "outputId": "1ac5ba05-5df8-41d0-e0bf-499a46a17ded"
      },
      "source": [
        "print(X)"
      ],
      "execution_count": null,
      "outputs": [
        {
          "output_type": "stream",
          "text": [
            "[[    19  19000]\n",
            " [    35  20000]\n",
            " [    26  43000]\n",
            " [    27  57000]\n",
            " [    19  76000]\n",
            " [    27  58000]\n",
            " [    27  84000]\n",
            " [    32 150000]\n",
            " [    25  33000]\n",
            " [    35  65000]\n",
            " [    26  80000]\n",
            " [    26  52000]\n",
            " [    20  86000]\n",
            " [    32  18000]\n",
            " [    18  82000]\n",
            " [    29  80000]\n",
            " [    47  25000]\n",
            " [    45  26000]\n",
            " [    46  28000]\n",
            " [    48  29000]\n",
            " [    45  22000]\n",
            " [    47  49000]\n",
            " [    48  41000]\n",
            " [    45  22000]\n",
            " [    46  23000]\n",
            " [    47  20000]\n",
            " [    49  28000]\n",
            " [    47  30000]\n",
            " [    29  43000]\n",
            " [    31  18000]\n",
            " [    31  74000]\n",
            " [    27 137000]\n",
            " [    21  16000]\n",
            " [    28  44000]\n",
            " [    27  90000]\n",
            " [    35  27000]\n",
            " [    33  28000]\n",
            " [    30  49000]\n",
            " [    26  72000]\n",
            " [    27  31000]\n",
            " [    27  17000]\n",
            " [    33  51000]\n",
            " [    35 108000]\n",
            " [    30  15000]\n",
            " [    28  84000]\n",
            " [    23  20000]\n",
            " [    25  79000]\n",
            " [    27  54000]\n",
            " [    30 135000]\n",
            " [    31  89000]\n",
            " [    24  32000]\n",
            " [    18  44000]\n",
            " [    29  83000]\n",
            " [    35  23000]\n",
            " [    27  58000]\n",
            " [    24  55000]\n",
            " [    23  48000]\n",
            " [    28  79000]\n",
            " [    22  18000]\n",
            " [    32 117000]\n",
            " [    27  20000]\n",
            " [    25  87000]\n",
            " [    23  66000]\n",
            " [    32 120000]\n",
            " [    59  83000]\n",
            " [    24  58000]\n",
            " [    24  19000]\n",
            " [    23  82000]\n",
            " [    22  63000]\n",
            " [    31  68000]\n",
            " [    25  80000]\n",
            " [    24  27000]\n",
            " [    20  23000]\n",
            " [    33 113000]\n",
            " [    32  18000]\n",
            " [    34 112000]\n",
            " [    18  52000]\n",
            " [    22  27000]\n",
            " [    28  87000]\n",
            " [    26  17000]\n",
            " [    30  80000]\n",
            " [    39  42000]\n",
            " [    20  49000]\n",
            " [    35  88000]\n",
            " [    30  62000]\n",
            " [    31 118000]\n",
            " [    24  55000]\n",
            " [    28  85000]\n",
            " [    26  81000]\n",
            " [    35  50000]\n",
            " [    22  81000]\n",
            " [    30 116000]\n",
            " [    26  15000]\n",
            " [    29  28000]\n",
            " [    29  83000]\n",
            " [    35  44000]\n",
            " [    35  25000]\n",
            " [    28 123000]\n",
            " [    35  73000]\n",
            " [    28  37000]\n",
            " [    27  88000]\n",
            " [    28  59000]\n",
            " [    32  86000]\n",
            " [    33 149000]\n",
            " [    19  21000]\n",
            " [    21  72000]\n",
            " [    26  35000]\n",
            " [    27  89000]\n",
            " [    26  86000]\n",
            " [    38  80000]\n",
            " [    39  71000]\n",
            " [    37  71000]\n",
            " [    38  61000]\n",
            " [    37  55000]\n",
            " [    42  80000]\n",
            " [    40  57000]\n",
            " [    35  75000]\n",
            " [    36  52000]\n",
            " [    40  59000]\n",
            " [    41  59000]\n",
            " [    36  75000]\n",
            " [    37  72000]\n",
            " [    40  75000]\n",
            " [    35  53000]\n",
            " [    41  51000]\n",
            " [    39  61000]\n",
            " [    42  65000]\n",
            " [    26  32000]\n",
            " [    30  17000]\n",
            " [    26  84000]\n",
            " [    31  58000]\n",
            " [    33  31000]\n",
            " [    30  87000]\n",
            " [    21  68000]\n",
            " [    28  55000]\n",
            " [    23  63000]\n",
            " [    20  82000]\n",
            " [    30 107000]\n",
            " [    28  59000]\n",
            " [    19  25000]\n",
            " [    19  85000]\n",
            " [    18  68000]\n",
            " [    35  59000]\n",
            " [    30  89000]\n",
            " [    34  25000]\n",
            " [    24  89000]\n",
            " [    27  96000]\n",
            " [    41  30000]\n",
            " [    29  61000]\n",
            " [    20  74000]\n",
            " [    26  15000]\n",
            " [    41  45000]\n",
            " [    31  76000]\n",
            " [    36  50000]\n",
            " [    40  47000]\n",
            " [    31  15000]\n",
            " [    46  59000]\n",
            " [    29  75000]\n",
            " [    26  30000]\n",
            " [    32 135000]\n",
            " [    32 100000]\n",
            " [    25  90000]\n",
            " [    37  33000]\n",
            " [    35  38000]\n",
            " [    33  69000]\n",
            " [    18  86000]\n",
            " [    22  55000]\n",
            " [    35  71000]\n",
            " [    29 148000]\n",
            " [    29  47000]\n",
            " [    21  88000]\n",
            " [    34 115000]\n",
            " [    26 118000]\n",
            " [    34  43000]\n",
            " [    34  72000]\n",
            " [    23  28000]\n",
            " [    35  47000]\n",
            " [    25  22000]\n",
            " [    24  23000]\n",
            " [    31  34000]\n",
            " [    26  16000]\n",
            " [    31  71000]\n",
            " [    32 117000]\n",
            " [    33  43000]\n",
            " [    33  60000]\n",
            " [    31  66000]\n",
            " [    20  82000]\n",
            " [    33  41000]\n",
            " [    35  72000]\n",
            " [    28  32000]\n",
            " [    24  84000]\n",
            " [    19  26000]\n",
            " [    29  43000]\n",
            " [    19  70000]\n",
            " [    28  89000]\n",
            " [    34  43000]\n",
            " [    30  79000]\n",
            " [    20  36000]\n",
            " [    26  80000]\n",
            " [    35  22000]\n",
            " [    35  39000]\n",
            " [    49  74000]\n",
            " [    39 134000]\n",
            " [    41  71000]\n",
            " [    58 101000]\n",
            " [    47  47000]\n",
            " [    55 130000]\n",
            " [    52 114000]\n",
            " [    40 142000]\n",
            " [    46  22000]\n",
            " [    48  96000]\n",
            " [    52 150000]\n",
            " [    59  42000]\n",
            " [    35  58000]\n",
            " [    47  43000]\n",
            " [    60 108000]\n",
            " [    49  65000]\n",
            " [    40  78000]\n",
            " [    46  96000]\n",
            " [    59 143000]\n",
            " [    41  80000]\n",
            " [    35  91000]\n",
            " [    37 144000]\n",
            " [    60 102000]\n",
            " [    35  60000]\n",
            " [    37  53000]\n",
            " [    36 126000]\n",
            " [    56 133000]\n",
            " [    40  72000]\n",
            " [    42  80000]\n",
            " [    35 147000]\n",
            " [    39  42000]\n",
            " [    40 107000]\n",
            " [    49  86000]\n",
            " [    38 112000]\n",
            " [    46  79000]\n",
            " [    40  57000]\n",
            " [    37  80000]\n",
            " [    46  82000]\n",
            " [    53 143000]\n",
            " [    42 149000]\n",
            " [    38  59000]\n",
            " [    50  88000]\n",
            " [    56 104000]\n",
            " [    41  72000]\n",
            " [    51 146000]\n",
            " [    35  50000]\n",
            " [    57 122000]\n",
            " [    41  52000]\n",
            " [    35  97000]\n",
            " [    44  39000]\n",
            " [    37  52000]\n",
            " [    48 134000]\n",
            " [    37 146000]\n",
            " [    50  44000]\n",
            " [    52  90000]\n",
            " [    41  72000]\n",
            " [    40  57000]\n",
            " [    58  95000]\n",
            " [    45 131000]\n",
            " [    35  77000]\n",
            " [    36 144000]\n",
            " [    55 125000]\n",
            " [    35  72000]\n",
            " [    48  90000]\n",
            " [    42 108000]\n",
            " [    40  75000]\n",
            " [    37  74000]\n",
            " [    47 144000]\n",
            " [    40  61000]\n",
            " [    43 133000]\n",
            " [    59  76000]\n",
            " [    60  42000]\n",
            " [    39 106000]\n",
            " [    57  26000]\n",
            " [    57  74000]\n",
            " [    38  71000]\n",
            " [    49  88000]\n",
            " [    52  38000]\n",
            " [    50  36000]\n",
            " [    59  88000]\n",
            " [    35  61000]\n",
            " [    37  70000]\n",
            " [    52  21000]\n",
            " [    48 141000]\n",
            " [    37  93000]\n",
            " [    37  62000]\n",
            " [    48 138000]\n",
            " [    41  79000]\n",
            " [    37  78000]\n",
            " [    39 134000]\n",
            " [    49  89000]\n",
            " [    55  39000]\n",
            " [    37  77000]\n",
            " [    35  57000]\n",
            " [    36  63000]\n",
            " [    42  73000]\n",
            " [    43 112000]\n",
            " [    45  79000]\n",
            " [    46 117000]\n",
            " [    58  38000]\n",
            " [    48  74000]\n",
            " [    37 137000]\n",
            " [    37  79000]\n",
            " [    40  60000]\n",
            " [    42  54000]\n",
            " [    51 134000]\n",
            " [    47 113000]\n",
            " [    36 125000]\n",
            " [    38  50000]\n",
            " [    42  70000]\n",
            " [    39  96000]\n",
            " [    38  50000]\n",
            " [    49 141000]\n",
            " [    39  79000]\n",
            " [    39  75000]\n",
            " [    54 104000]\n",
            " [    35  55000]\n",
            " [    45  32000]\n",
            " [    36  60000]\n",
            " [    52 138000]\n",
            " [    53  82000]\n",
            " [    41  52000]\n",
            " [    48  30000]\n",
            " [    48 131000]\n",
            " [    41  60000]\n",
            " [    41  72000]\n",
            " [    42  75000]\n",
            " [    36 118000]\n",
            " [    47 107000]\n",
            " [    38  51000]\n",
            " [    48 119000]\n",
            " [    42  65000]\n",
            " [    40  65000]\n",
            " [    57  60000]\n",
            " [    36  54000]\n",
            " [    58 144000]\n",
            " [    35  79000]\n",
            " [    38  55000]\n",
            " [    39 122000]\n",
            " [    53 104000]\n",
            " [    35  75000]\n",
            " [    38  65000]\n",
            " [    47  51000]\n",
            " [    47 105000]\n",
            " [    41  63000]\n",
            " [    53  72000]\n",
            " [    54 108000]\n",
            " [    39  77000]\n",
            " [    38  61000]\n",
            " [    38 113000]\n",
            " [    37  75000]\n",
            " [    42  90000]\n",
            " [    37  57000]\n",
            " [    36  99000]\n",
            " [    60  34000]\n",
            " [    54  70000]\n",
            " [    41  72000]\n",
            " [    40  71000]\n",
            " [    42  54000]\n",
            " [    43 129000]\n",
            " [    53  34000]\n",
            " [    47  50000]\n",
            " [    42  79000]\n",
            " [    42 104000]\n",
            " [    59  29000]\n",
            " [    58  47000]\n",
            " [    46  88000]\n",
            " [    38  71000]\n",
            " [    54  26000]\n",
            " [    60  46000]\n",
            " [    60  83000]\n",
            " [    39  73000]\n",
            " [    59 130000]\n",
            " [    37  80000]\n",
            " [    46  32000]\n",
            " [    46  74000]\n",
            " [    42  53000]\n",
            " [    41  87000]\n",
            " [    58  23000]\n",
            " [    42  64000]\n",
            " [    48  33000]\n",
            " [    44 139000]\n",
            " [    49  28000]\n",
            " [    57  33000]\n",
            " [    56  60000]\n",
            " [    49  39000]\n",
            " [    39  71000]\n",
            " [    47  34000]\n",
            " [    48  35000]\n",
            " [    48  33000]\n",
            " [    47  23000]\n",
            " [    45  45000]\n",
            " [    60  42000]\n",
            " [    39  59000]\n",
            " [    46  41000]\n",
            " [    51  23000]\n",
            " [    50  20000]\n",
            " [    36  33000]\n",
            " [    49  36000]]\n"
          ],
          "name": "stdout"
        }
      ]
    },
    {
      "cell_type": "code",
      "metadata": {
        "id": "OWbhrBypeyV1",
        "colab": {
          "base_uri": "https://localhost:8080/"
        },
        "outputId": "ae7f7975-fe8a-42bd-aa1d-bbee79b8b3be"
      },
      "source": [
        "print(y)"
      ],
      "execution_count": null,
      "outputs": [
        {
          "output_type": "stream",
          "text": [
            "[0 0 0 0 0 0 0 1 0 0 0 0 0 0 0 0 1 1 1 1 1 1 1 1 1 1 1 1 0 0 0 1 0 0 0 0 0\n",
            " 0 0 0 0 0 0 0 0 0 0 0 1 0 0 0 0 0 0 0 0 0 0 0 0 0 0 1 0 0 0 0 0 0 0 0 0 0\n",
            " 0 1 0 0 0 0 0 0 0 0 0 1 0 0 0 0 0 0 0 0 0 0 0 1 0 0 0 0 0 1 0 0 0 0 0 0 0\n",
            " 0 0 0 0 0 0 0 0 0 0 0 0 0 0 0 0 0 0 0 0 0 0 0 0 0 0 1 0 0 0 0 0 0 0 0 1 0\n",
            " 0 0 0 0 0 0 0 0 0 0 0 1 1 0 0 0 0 0 0 0 1 0 0 0 0 0 0 0 0 0 0 0 0 0 1 0 0\n",
            " 0 0 0 0 0 0 0 0 0 0 0 0 0 0 0 0 0 1 0 1 0 1 0 1 0 1 1 0 0 0 1 0 0 0 1 0 1\n",
            " 1 1 0 0 1 1 0 1 1 0 1 1 0 1 0 0 0 1 1 0 1 1 0 1 0 1 0 1 0 0 1 1 0 1 0 0 1\n",
            " 1 0 1 1 0 1 1 0 0 1 0 0 1 1 1 1 1 0 1 1 1 1 0 1 1 0 1 0 1 0 1 1 1 1 0 0 0\n",
            " 1 1 0 1 1 1 1 1 0 0 0 1 1 0 0 1 0 1 0 1 1 0 1 0 1 1 0 1 1 0 0 0 1 1 0 1 0\n",
            " 0 1 0 1 0 0 1 1 0 0 1 1 0 1 1 0 0 1 0 1 0 1 1 1 0 1 0 1 1 1 0 1 1 1 1 0 1\n",
            " 1 1 0 1 0 1 0 0 1 1 0 1 1 1 1 1 1 0 1 1 1 1 1 1 0 1 1 1 0 1]\n"
          ],
          "name": "stdout"
        }
      ]
    },
    {
      "cell_type": "code",
      "metadata": {
        "id": "UzrhbKTfbgVL"
      },
      "source": [
        "# Splitting the dataset into the Training set and Test set\n",
        "from sklearn.model_selection import train_test_split\n",
        "\n",
        "X_train, X_test, y_train, y_test = train_test_split(X, y, test_size = 0.25, random_state = 24)"
      ],
      "execution_count": null,
      "outputs": []
    },
    {
      "cell_type": "code",
      "metadata": {
        "id": "7P72zs0Xbnqr",
        "colab": {
          "base_uri": "https://localhost:8080/"
        },
        "outputId": "00a6d970-36d9-49d7-eeab-897a2c276fbd"
      },
      "source": [
        "print(X_train)"
      ],
      "execution_count": null,
      "outputs": [
        {
          "output_type": "stream",
          "text": [
            "[[    45  79000]\n",
            " [    45  22000]\n",
            " [    59  76000]\n",
            " [    30  62000]\n",
            " [    35  61000]\n",
            " [    27  57000]\n",
            " [    29  61000]\n",
            " [    42  65000]\n",
            " [    28 123000]\n",
            " [    40  75000]\n",
            " [    49  28000]\n",
            " [    24  58000]\n",
            " [    21  16000]\n",
            " [    35  77000]\n",
            " [    27  17000]\n",
            " [    35  59000]\n",
            " [    32 117000]\n",
            " [    35  60000]\n",
            " [    27  54000]\n",
            " [    28  79000]\n",
            " [    57  74000]\n",
            " [    55  39000]\n",
            " [    36  50000]\n",
            " [    28  32000]\n",
            " [    26  86000]\n",
            " [    41  51000]\n",
            " [    37  70000]\n",
            " [    22  81000]\n",
            " [    27  58000]\n",
            " [    49  65000]\n",
            " [    40  61000]\n",
            " [    23  63000]\n",
            " [    47  23000]\n",
            " [    54 104000]\n",
            " [    27  96000]\n",
            " [    39 134000]\n",
            " [    60  46000]\n",
            " [    59  29000]\n",
            " [    20  36000]\n",
            " [    37  72000]\n",
            " [    36 144000]\n",
            " [    32  18000]\n",
            " [    30  80000]\n",
            " [    35  39000]\n",
            " [    19  25000]\n",
            " [    60 108000]\n",
            " [    26  30000]\n",
            " [    41  72000]\n",
            " [    59 130000]\n",
            " [    36  99000]\n",
            " [    48 119000]\n",
            " [    40  71000]\n",
            " [    30  79000]\n",
            " [    31  74000]\n",
            " [    59  88000]\n",
            " [    44 139000]\n",
            " [    54 108000]\n",
            " [    26 118000]\n",
            " [    47  34000]\n",
            " [    41  71000]\n",
            " [    29  47000]\n",
            " [    39  75000]\n",
            " [    28  59000]\n",
            " [    18  68000]\n",
            " [    37  80000]\n",
            " [    37  55000]\n",
            " [    36 125000]\n",
            " [    46  96000]\n",
            " [    41  87000]\n",
            " [    38  80000]\n",
            " [    40 107000]\n",
            " [    48  96000]\n",
            " [    36 126000]\n",
            " [    23  20000]\n",
            " [    30  17000]\n",
            " [    35  58000]\n",
            " [    42  64000]\n",
            " [    49  39000]\n",
            " [    40 142000]\n",
            " [    49  89000]\n",
            " [    46  88000]\n",
            " [    37  79000]\n",
            " [    32 120000]\n",
            " [    29  83000]\n",
            " [    41  59000]\n",
            " [    32  86000]\n",
            " [    41  72000]\n",
            " [    51 134000]\n",
            " [    34  72000]\n",
            " [    45  22000]\n",
            " [    49  74000]\n",
            " [    39  59000]\n",
            " [    24  55000]\n",
            " [    37 144000]\n",
            " [    41  52000]\n",
            " [    37  93000]\n",
            " [    42  65000]\n",
            " [    28  87000]\n",
            " [    53  72000]\n",
            " [    29  28000]\n",
            " [    52 150000]\n",
            " [    26  43000]\n",
            " [    49  28000]\n",
            " [    37  52000]\n",
            " [    22  63000]\n",
            " [    27  58000]\n",
            " [    33 149000]\n",
            " [    50  20000]\n",
            " [    35  47000]\n",
            " [    28  85000]\n",
            " [    28  37000]\n",
            " [    47  50000]\n",
            " [    27  90000]\n",
            " [    47  49000]\n",
            " [    30 107000]\n",
            " [    56 104000]\n",
            " [    38  50000]\n",
            " [    33 113000]\n",
            " [    33  51000]\n",
            " [    31  58000]\n",
            " [    46  28000]\n",
            " [    40  75000]\n",
            " [    35  55000]\n",
            " [    25  90000]\n",
            " [    48  35000]\n",
            " [    24  23000]\n",
            " [    26  52000]\n",
            " [    60  42000]\n",
            " [    53  34000]\n",
            " [    37  53000]\n",
            " [    39  96000]\n",
            " [    26  15000]\n",
            " [    32 117000]\n",
            " [    30 116000]\n",
            " [    46  82000]\n",
            " [    35  71000]\n",
            " [    43 133000]\n",
            " [    35  97000]\n",
            " [    31  89000]\n",
            " [    37  75000]\n",
            " [    28  59000]\n",
            " [    58 144000]\n",
            " [    60  34000]\n",
            " [    24  84000]\n",
            " [    48  33000]\n",
            " [    40  72000]\n",
            " [    31  68000]\n",
            " [    54  26000]\n",
            " [    35  23000]\n",
            " [    23  48000]\n",
            " [    23  28000]\n",
            " [    52  38000]\n",
            " [    34  43000]\n",
            " [    47 113000]\n",
            " [    41  52000]\n",
            " [    38  61000]\n",
            " [    39  73000]\n",
            " [    52  90000]\n",
            " [    37  62000]\n",
            " [    35  20000]\n",
            " [    32 150000]\n",
            " [    34  25000]\n",
            " [    60  42000]\n",
            " [    23  66000]\n",
            " [    31 118000]\n",
            " [    58  95000]\n",
            " [    46  59000]\n",
            " [    41  60000]\n",
            " [    31  71000]\n",
            " [    57  33000]\n",
            " [    32 135000]\n",
            " [    36  54000]\n",
            " [    24  19000]\n",
            " [    35  50000]\n",
            " [    35  88000]\n",
            " [    37 146000]\n",
            " [    35  73000]\n",
            " [    22  18000]\n",
            " [    39 106000]\n",
            " [    42  80000]\n",
            " [    48  90000]\n",
            " [    23  82000]\n",
            " [    45  45000]\n",
            " [    29  83000]\n",
            " [    50  88000]\n",
            " [    46  74000]\n",
            " [    55 125000]\n",
            " [    49  36000]\n",
            " [    56  60000]\n",
            " [    42 104000]\n",
            " [    59  42000]\n",
            " [    35  65000]\n",
            " [    27  31000]\n",
            " [    35  79000]\n",
            " [    38  71000]\n",
            " [    42  70000]\n",
            " [    48 141000]\n",
            " [    51 146000]\n",
            " [    30  89000]\n",
            " [    49  88000]\n",
            " [    47 144000]\n",
            " [    42 149000]\n",
            " [    37  77000]\n",
            " [    29 148000]\n",
            " [    35  50000]\n",
            " [    39  77000]\n",
            " [    34 115000]\n",
            " [    26  72000]\n",
            " [    41  45000]\n",
            " [    32 100000]\n",
            " [    48  33000]\n",
            " [    24  32000]\n",
            " [    30  15000]\n",
            " [    26  16000]\n",
            " [    22  55000]\n",
            " [    36  52000]\n",
            " [    33  28000]\n",
            " [    35  27000]\n",
            " [    58 101000]\n",
            " [    19  85000]\n",
            " [    35  44000]\n",
            " [    58  38000]\n",
            " [    47  43000]\n",
            " [    46  23000]\n",
            " [    26  35000]\n",
            " [    47 105000]\n",
            " [    41  79000]\n",
            " [    19  70000]\n",
            " [    38 112000]\n",
            " [    47  30000]\n",
            " [    35  75000]\n",
            " [    42  90000]\n",
            " [    38  51000]\n",
            " [    35 108000]\n",
            " [    50  36000]\n",
            " [    26  80000]\n",
            " [    34  43000]\n",
            " [    25  33000]\n",
            " [    35  22000]\n",
            " [    48  30000]\n",
            " [    19  26000]\n",
            " [    34 112000]\n",
            " [    39 134000]\n",
            " [    38  65000]\n",
            " [    35  25000]\n",
            " [    48  74000]\n",
            " [    33  69000]\n",
            " [    27  89000]\n",
            " [    28  89000]\n",
            " [    20  74000]\n",
            " [    42  79000]\n",
            " [    39  71000]\n",
            " [    49  86000]\n",
            " [    36  75000]\n",
            " [    21  88000]\n",
            " [    21  68000]\n",
            " [    35  72000]\n",
            " [    38  50000]\n",
            " [    43 112000]\n",
            " [    26  80000]\n",
            " [    38  71000]\n",
            " [    45 131000]\n",
            " [    28  44000]\n",
            " [    52  21000]\n",
            " [    44  39000]\n",
            " [    36  33000]\n",
            " [    32  18000]\n",
            " [    40  78000]\n",
            " [    53  82000]\n",
            " [    37 137000]\n",
            " [    28  55000]\n",
            " [    46  22000]\n",
            " [    37  57000]\n",
            " [    41  72000]\n",
            " [    24  55000]\n",
            " [    27  20000]\n",
            " [    46  41000]\n",
            " [    37  78000]\n",
            " [    20  86000]\n",
            " [    50  44000]\n",
            " [    29  43000]\n",
            " [    60 102000]\n",
            " [    35  38000]\n",
            " [    46  32000]\n",
            " [    57  26000]\n",
            " [    47 107000]\n",
            " [    39  42000]\n",
            " [    60  83000]\n",
            " [    58  23000]\n",
            " [    38  55000]\n",
            " [    56 133000]\n",
            " [    19  76000]\n",
            " [    52 114000]\n",
            " [    35  53000]\n",
            " [    54  70000]\n",
            " [    26  84000]\n",
            " [    24  89000]\n",
            " [    47  51000]\n",
            " [    29  43000]\n",
            " [    39  71000]]\n"
          ],
          "name": "stdout"
        }
      ]
    },
    {
      "cell_type": "code",
      "metadata": {
        "id": "MYY7nwKAbwIn",
        "colab": {
          "base_uri": "https://localhost:8080/"
        },
        "outputId": "46f9dca0-3d36-4f59-b4f1-45bb2ce438cb"
      },
      "source": [
        "print(X_test)"
      ],
      "execution_count": null,
      "outputs": [
        {
          "output_type": "stream",
          "text": [
            "[[    40  57000]\n",
            " [    20  82000]\n",
            " [    58  47000]\n",
            " [    39  42000]\n",
            " [    39  79000]\n",
            " [    41  72000]\n",
            " [    18  52000]\n",
            " [    31  34000]\n",
            " [    36 118000]\n",
            " [    30 135000]\n",
            " [    55 130000]\n",
            " [    37  33000]\n",
            " [    20  82000]\n",
            " [    27 137000]\n",
            " [    48  41000]\n",
            " [    27  84000]\n",
            " [    42  54000]\n",
            " [    35  57000]\n",
            " [    35  72000]\n",
            " [    39  61000]\n",
            " [    27  88000]\n",
            " [    25  87000]\n",
            " [    30  49000]\n",
            " [    53 143000]\n",
            " [    48  29000]\n",
            " [    28  84000]\n",
            " [    26  81000]\n",
            " [    42  53000]\n",
            " [    59 143000]\n",
            " [    31  18000]\n",
            " [    26  15000]\n",
            " [    47  20000]\n",
            " [    19  19000]\n",
            " [    47  47000]\n",
            " [    33  60000]\n",
            " [    36  63000]\n",
            " [    45  32000]\n",
            " [    18  86000]\n",
            " [    53 104000]\n",
            " [    43 129000]\n",
            " [    31  15000]\n",
            " [    42  54000]\n",
            " [    33  41000]\n",
            " [    52 138000]\n",
            " [    46  79000]\n",
            " [    39 122000]\n",
            " [    40  60000]\n",
            " [    51  23000]\n",
            " [    48 134000]\n",
            " [    57  60000]\n",
            " [    48 131000]\n",
            " [    38 113000]\n",
            " [    57 122000]\n",
            " [    25  22000]\n",
            " [    41  80000]\n",
            " [    49 141000]\n",
            " [    42  73000]\n",
            " [    31  66000]\n",
            " [    42  80000]\n",
            " [    33  43000]\n",
            " [    26  32000]\n",
            " [    25  79000]\n",
            " [    42  75000]\n",
            " [    31  76000]\n",
            " [    37  80000]\n",
            " [    40  47000]\n",
            " [    48 138000]\n",
            " [    20  23000]\n",
            " [    40  59000]\n",
            " [    47  25000]\n",
            " [    25  80000]\n",
            " [    29  80000]\n",
            " [    37  71000]\n",
            " [    19  21000]\n",
            " [    22  27000]\n",
            " [    35 147000]\n",
            " [    46 117000]\n",
            " [    20  49000]\n",
            " [    40  57000]\n",
            " [    37  74000]\n",
            " [    21  72000]\n",
            " [    45  26000]\n",
            " [    59  83000]\n",
            " [    38  61000]\n",
            " [    35  75000]\n",
            " [    40  57000]\n",
            " [    30  87000]\n",
            " [    29  75000]\n",
            " [    26  17000]\n",
            " [    42 108000]\n",
            " [    40  65000]\n",
            " [    41  63000]\n",
            " [    36  60000]\n",
            " [    41  30000]\n",
            " [    33  31000]\n",
            " [    35  91000]\n",
            " [    18  44000]\n",
            " [    18  82000]\n",
            " [    38  59000]\n",
            " [    24  27000]]\n"
          ],
          "name": "stdout"
        }
      ]
    },
    {
      "cell_type": "code",
      "metadata": {
        "id": "4SE8ozd4b1Fg",
        "colab": {
          "base_uri": "https://localhost:8080/"
        },
        "outputId": "1d7bace0-3517-42e6-c858-ca5e1f41e7a7"
      },
      "source": [
        "print(y_test)"
      ],
      "execution_count": null,
      "outputs": [
        {
          "output_type": "stream",
          "text": [
            "[0 0 1 0 0 0 0 0 1 1 1 0 0 1 1 0 0 0 0 0 0 0 0 1 1 0 0 0 1 0 0 1 0 0 0 0 1\n",
            " 0 1 1 0 0 0 1 1 1 0 1 1 1 1 1 1 0 0 1 1 0 0 0 0 0 0 0 0 0 1 0 0 1 0 0 0 0\n",
            " 0 1 1 0 0 0 0 1 0 0 0 0 0 0 0 1 0 0 0 0 0 1 0 0 0 0]\n"
          ],
          "name": "stdout"
        }
      ]
    },
    {
      "cell_type": "code",
      "metadata": {
        "id": "zSCby589b4kz",
        "colab": {
          "base_uri": "https://localhost:8080/"
        },
        "outputId": "bc604389-ec50-4ce6-9133-b450921f204e"
      },
      "source": [
        "print(y_train)"
      ],
      "execution_count": null,
      "outputs": [
        {
          "output_type": "stream",
          "text": [
            "[0 1 1 0 0 0 0 0 1 0 1 0 0 0 0 0 0 0 0 0 1 1 0 0 0 0 1 0 0 0 0 0 1 1 1 1 1\n",
            " 1 0 0 1 0 0 0 0 1 0 0 1 1 1 1 0 0 1 1 1 0 1 0 0 1 0 0 0 0 1 0 1 0 1 1 1 0\n",
            " 0 0 0 1 1 1 1 1 1 0 0 0 0 0 0 1 0 0 0 1 0 1 0 0 1 0 1 0 1 0 0 0 1 1 0 0 0\n",
            " 1 0 1 1 1 0 0 0 0 1 0 0 0 1 0 0 1 1 0 1 0 1 0 0 0 0 1 0 0 0 1 1 0 1 0 0 1\n",
            " 0 0 0 1 0 1 0 0 0 1 0 0 1 0 1 0 1 1 0 0 0 1 1 0 0 0 0 1 0 0 1 1 1 0 1 0 1\n",
            " 0 1 1 1 1 0 0 0 0 0 0 0 1 0 1 1 1 0 1 0 0 0 0 0 1 1 0 0 0 0 0 0 0 1 0 0 1\n",
            " 0 1 0 1 0 0 0 1 0 1 0 0 1 0 0 0 0 1 0 1 1 0 0 1 0 0 0 0 0 0 1 0 0 0 0 0 1\n",
            " 0 0 1 0 1 0 0 0 0 1 1 0 0 0 0 0 0 1 1 0 0 0 1 0 1 1 1 0 1 1 0 1 0 0 0 1 0\n",
            " 0 1 0 0]\n"
          ],
          "name": "stdout"
        }
      ]
    },
    {
      "cell_type": "code",
      "metadata": {
        "id": "Yhovt-qlcsyQ"
      },
      "source": [
        "# Feature Scaling\n",
        "from sklearn.preprocessing import StandardScaler\n",
        "sc = StandardScaler()\n",
        "X_train = sc.fit_transform(X_train)\n",
        "X_test = sc.transform(X_test)"
      ],
      "execution_count": null,
      "outputs": []
    },
    {
      "cell_type": "code",
      "metadata": {
        "id": "ic851ceFc-bY",
        "colab": {
          "base_uri": "https://localhost:8080/"
        },
        "outputId": "b4d32cca-b15d-41ea-f708-a04a1ed04201"
      },
      "source": [
        "print(X_train)"
      ],
      "execution_count": null,
      "outputs": [
        {
          "output_type": "stream",
          "text": [
            "[[ 0.66804706  0.27675082]\n",
            " [ 0.66804706 -1.42007209]\n",
            " [ 2.00989195  0.18744436]\n",
            " [-0.76964389 -0.22931917]\n",
            " [-0.29041357 -0.25908799]\n",
            " [-1.05718208 -0.37816328]\n",
            " [-0.86548995 -0.25908799]\n",
            " [ 0.38050887 -0.1400127 ]\n",
            " [-0.96133601  1.58657904]\n",
            " [ 0.18881674  0.15767553]\n",
            " [ 1.05143131 -1.24145915]\n",
            " [-1.34472027 -0.34839446]\n",
            " [-1.63225846 -1.59868503]\n",
            " [-0.29041357  0.21721318]\n",
            " [-1.05718208 -1.5689162 ]\n",
            " [-0.29041357 -0.31862564]\n",
            " [-0.57795176  1.4079661 ]\n",
            " [-0.29041357 -0.28885681]\n",
            " [-1.05718208 -0.46746975]\n",
            " [-0.96133601  0.27675082]\n",
            " [ 1.81819982  0.12790671]\n",
            " [ 1.62650769 -0.9140021 ]\n",
            " [-0.19456751 -0.58654504]\n",
            " [-0.96133601 -1.12238386]\n",
            " [-1.15302814  0.48513259]\n",
            " [ 0.28466281 -0.55677622]\n",
            " [-0.09872145  0.00883142]\n",
            " [-1.53641239  0.33628847]\n",
            " [-1.05718208 -0.34839446]\n",
            " [ 1.05143131 -0.1400127 ]\n",
            " [ 0.18881674 -0.25908799]\n",
            " [-1.44056633 -0.19955034]\n",
            " [ 0.85973919 -1.39030326]\n",
            " [ 1.53066163  1.0209714 ]\n",
            " [-1.05718208  0.78282082]\n",
            " [ 0.09297068  1.91403609]\n",
            " [ 2.10573801 -0.70562033]\n",
            " [ 2.00989195 -1.21169033]\n",
            " [-1.72810452 -1.00330856]\n",
            " [-0.09872145  0.06836906]\n",
            " [-0.19456751  2.21172432]\n",
            " [-0.57795176 -1.53914738]\n",
            " [-0.76964389  0.30651965]\n",
            " [-0.29041357 -0.9140021 ]\n",
            " [-1.82395058 -1.33076562]\n",
            " [ 2.10573801  1.14004669]\n",
            " [-1.15302814 -1.1819215 ]\n",
            " [ 0.28466281  0.06836906]\n",
            " [ 2.00989195  1.7949608 ]\n",
            " [-0.19456751  0.87212728]\n",
            " [ 0.95558525  1.46750375]\n",
            " [ 0.18881674  0.03860024]\n",
            " [-0.76964389  0.27675082]\n",
            " [-0.67379782  0.12790671]\n",
            " [ 2.00989195  0.54467023]\n",
            " [ 0.572201    2.06288021]\n",
            " [ 1.53066163  1.14004669]\n",
            " [-1.15302814  1.43773492]\n",
            " [ 0.85973919 -1.06284621]\n",
            " [ 0.28466281  0.03860024]\n",
            " [-0.86548995 -0.67585151]\n",
            " [ 0.09297068  0.15767553]\n",
            " [-0.96133601 -0.31862564]\n",
            " [-1.91979665 -0.05070623]\n",
            " [-0.09872145  0.30651965]\n",
            " [-0.09872145 -0.43770093]\n",
            " [-0.19456751  1.64611668]\n",
            " [ 0.76389312  0.78282082]\n",
            " [ 0.28466281  0.51490141]\n",
            " [-0.00287538  0.30651965]\n",
            " [ 0.18881674  1.11027787]\n",
            " [ 0.95558525  0.78282082]\n",
            " [-0.19456751  1.67588551]\n",
            " [-1.44056633 -1.47960973]\n",
            " [-0.76964389 -1.5689162 ]\n",
            " [-0.29041357 -0.34839446]\n",
            " [ 0.38050887 -0.16978152]\n",
            " [ 1.05143131 -0.9140021 ]\n",
            " [ 0.18881674  2.15218667]\n",
            " [ 1.05143131  0.57443905]\n",
            " [ 0.76389312  0.54467023]\n",
            " [-0.09872145  0.27675082]\n",
            " [-0.57795176  1.49727257]\n",
            " [-0.86548995  0.39582612]\n",
            " [ 0.28466281 -0.31862564]\n",
            " [-0.57795176  0.48513259]\n",
            " [ 0.28466281  0.06836906]\n",
            " [ 1.24312344  1.91403609]\n",
            " [-0.38625963  0.06836906]\n",
            " [ 0.66804706 -1.42007209]\n",
            " [ 1.05143131  0.12790671]\n",
            " [ 0.09297068 -0.31862564]\n",
            " [-1.34472027 -0.43770093]\n",
            " [-0.09872145  2.21172432]\n",
            " [ 0.28466281 -0.5270074 ]\n",
            " [-0.09872145  0.69351435]\n",
            " [ 0.38050887 -0.1400127 ]\n",
            " [-0.96133601  0.51490141]\n",
            " [ 1.43481557  0.06836906]\n",
            " [-0.86548995 -1.24145915]\n",
            " [ 1.3389695   2.39033726]\n",
            " [-1.15302814 -0.7949268 ]\n",
            " [ 1.05143131 -1.24145915]\n",
            " [-0.09872145 -0.5270074 ]\n",
            " [-1.53641239 -0.19955034]\n",
            " [-1.05718208 -0.34839446]\n",
            " [-0.4821057   2.36056844]\n",
            " [ 1.14727738 -1.47960973]\n",
            " [-0.29041357 -0.67585151]\n",
            " [-0.96133601  0.45536376]\n",
            " [-0.96133601 -0.97353974]\n",
            " [ 0.85973919 -0.58654504]\n",
            " [-1.05718208  0.60420788]\n",
            " [ 0.85973919 -0.61631387]\n",
            " [-0.76964389  1.11027787]\n",
            " [ 1.72235376  1.0209714 ]\n",
            " [-0.00287538 -0.58654504]\n",
            " [-0.4821057   1.28889081]\n",
            " [-0.4821057  -0.55677622]\n",
            " [-0.67379782 -0.34839446]\n",
            " [ 0.76389312 -1.24145915]\n",
            " [ 0.18881674  0.15767553]\n",
            " [-0.29041357 -0.43770093]\n",
            " [-1.2488742   0.60420788]\n",
            " [ 0.95558525 -1.03307739]\n",
            " [-1.34472027 -1.39030326]\n",
            " [-1.15302814 -0.5270074 ]\n",
            " [ 2.10573801 -0.82469563]\n",
            " [ 1.43481557 -1.06284621]\n",
            " [-0.09872145 -0.49723857]\n",
            " [ 0.09297068  0.78282082]\n",
            " [-1.15302814 -1.62845385]\n",
            " [-0.57795176  1.4079661 ]\n",
            " [-0.76964389  1.37819728]\n",
            " [ 0.76389312  0.36605729]\n",
            " [-0.29041357  0.03860024]\n",
            " [ 0.47635493  1.88426727]\n",
            " [-0.29041357  0.81258964]\n",
            " [-0.67379782  0.57443905]\n",
            " [-0.09872145  0.15767553]\n",
            " [-0.96133601 -0.31862564]\n",
            " [ 1.91404588  2.21172432]\n",
            " [ 2.10573801 -1.06284621]\n",
            " [-1.34472027  0.42559494]\n",
            " [ 0.95558525 -1.09261503]\n",
            " [ 0.18881674  0.06836906]\n",
            " [-0.67379782 -0.05070623]\n",
            " [ 1.53066163 -1.3009968 ]\n",
            " [-0.29041357 -1.39030326]\n",
            " [-1.44056633 -0.64608269]\n",
            " [-1.44056633 -1.24145915]\n",
            " [ 1.3389695  -0.94377092]\n",
            " [-0.38625963 -0.7949268 ]\n",
            " [ 0.85973919  1.28889081]\n",
            " [ 0.28466281 -0.5270074 ]\n",
            " [-0.00287538 -0.25908799]\n",
            " [ 0.09297068  0.09813789]\n",
            " [ 1.3389695   0.60420788]\n",
            " [-0.09872145 -0.22931917]\n",
            " [-0.29041357 -1.47960973]\n",
            " [-0.57795176  2.39033726]\n",
            " [-0.38625963 -1.33076562]\n",
            " [ 2.10573801 -0.82469563]\n",
            " [-1.44056633 -0.11024387]\n",
            " [-0.67379782  1.43773492]\n",
            " [ 1.91404588  0.75305199]\n",
            " [ 0.76389312 -0.31862564]\n",
            " [ 0.28466281 -0.28885681]\n",
            " [-0.67379782  0.03860024]\n",
            " [ 1.81819982 -1.09261503]\n",
            " [-0.57795176  1.94380491]\n",
            " [-0.19456751 -0.46746975]\n",
            " [-1.34472027 -1.50937856]\n",
            " [-0.29041357 -0.58654504]\n",
            " [-0.29041357  0.54467023]\n",
            " [-0.09872145  2.27126197]\n",
            " [-0.29041357  0.09813789]\n",
            " [-1.53641239 -1.53914738]\n",
            " [ 0.09297068  1.08050905]\n",
            " [ 0.38050887  0.30651965]\n",
            " [ 0.95558525  0.60420788]\n",
            " [-1.44056633  0.36605729]\n",
            " [ 0.66804706 -0.73538916]\n",
            " [-0.86548995  0.39582612]\n",
            " [ 1.14727738  0.54467023]\n",
            " [ 0.76389312  0.12790671]\n",
            " [ 1.62650769  1.64611668]\n",
            " [ 1.05143131 -1.00330856]\n",
            " [ 1.72235376 -0.28885681]\n",
            " [ 0.38050887  1.0209714 ]\n",
            " [ 2.00989195 -0.82469563]\n",
            " [-0.29041357 -0.1400127 ]\n",
            " [-1.05718208 -1.15215268]\n",
            " [-0.29041357  0.27675082]\n",
            " [-0.00287538  0.03860024]\n",
            " [ 0.38050887  0.00883142]\n",
            " [ 0.95558525  2.12241785]\n",
            " [ 1.24312344  2.27126197]\n",
            " [-0.76964389  0.57443905]\n",
            " [ 1.05143131  0.54467023]\n",
            " [ 0.85973919  2.21172432]\n",
            " [ 0.38050887  2.36056844]\n",
            " [-0.09872145  0.21721318]\n",
            " [-0.86548995  2.33079961]\n",
            " [-0.29041357 -0.58654504]\n",
            " [ 0.09297068  0.21721318]\n",
            " [-0.38625963  1.34842845]\n",
            " [-1.15302814  0.06836906]\n",
            " [ 0.28466281 -0.73538916]\n",
            " [-0.57795176  0.90189611]\n",
            " [ 0.95558525 -1.09261503]\n",
            " [-1.34472027 -1.12238386]\n",
            " [-0.76964389 -1.62845385]\n",
            " [-1.15302814 -1.59868503]\n",
            " [-1.53641239 -0.43770093]\n",
            " [-0.19456751 -0.5270074 ]\n",
            " [-0.4821057  -1.24145915]\n",
            " [-0.29041357 -1.27122797]\n",
            " [ 1.91404588  0.93166493]\n",
            " [-1.82395058  0.45536376]\n",
            " [-0.29041357 -0.76515798]\n",
            " [ 1.91404588 -0.94377092]\n",
            " [ 0.85973919 -0.7949268 ]\n",
            " [ 0.76389312 -1.39030326]\n",
            " [-1.15302814 -1.03307739]\n",
            " [ 0.85973919  1.05074022]\n",
            " [ 0.28466281  0.27675082]\n",
            " [-1.82395058  0.00883142]\n",
            " [-0.00287538  1.25912198]\n",
            " [ 0.85973919 -1.1819215 ]\n",
            " [-0.29041357  0.15767553]\n",
            " [ 0.38050887  0.60420788]\n",
            " [-0.00287538 -0.55677622]\n",
            " [-0.29041357  1.14004669]\n",
            " [ 1.14727738 -1.00330856]\n",
            " [-1.15302814  0.30651965]\n",
            " [-0.38625963 -0.7949268 ]\n",
            " [-1.2488742  -1.09261503]\n",
            " [-0.29041357 -1.42007209]\n",
            " [ 0.95558525 -1.1819215 ]\n",
            " [-1.82395058 -1.3009968 ]\n",
            " [-0.38625963  1.25912198]\n",
            " [ 0.09297068  1.91403609]\n",
            " [-0.00287538 -0.1400127 ]\n",
            " [-0.29041357 -1.33076562]\n",
            " [ 0.95558525  0.12790671]\n",
            " [-0.4821057  -0.02093741]\n",
            " [-1.05718208  0.57443905]\n",
            " [-0.96133601  0.57443905]\n",
            " [-1.72810452  0.12790671]\n",
            " [ 0.38050887  0.27675082]\n",
            " [ 0.09297068  0.03860024]\n",
            " [ 1.05143131  0.48513259]\n",
            " [-0.19456751  0.15767553]\n",
            " [-1.63225846  0.54467023]\n",
            " [-1.63225846 -0.05070623]\n",
            " [-0.29041357  0.06836906]\n",
            " [-0.00287538 -0.58654504]\n",
            " [ 0.47635493  1.25912198]\n",
            " [-1.15302814  0.30651965]\n",
            " [-0.00287538  0.03860024]\n",
            " [ 0.66804706  1.82472962]\n",
            " [-0.96133601 -0.76515798]\n",
            " [ 1.3389695  -1.44984091]\n",
            " [ 0.572201   -0.9140021 ]\n",
            " [-0.19456751 -1.09261503]\n",
            " [-0.57795176 -1.53914738]\n",
            " [ 0.18881674  0.246982  ]\n",
            " [ 1.43481557  0.36605729]\n",
            " [-0.09872145  2.00334256]\n",
            " [-0.96133601 -0.43770093]\n",
            " [ 0.76389312 -1.42007209]\n",
            " [-0.09872145 -0.37816328]\n",
            " [ 0.28466281  0.06836906]\n",
            " [-1.34472027 -0.43770093]\n",
            " [-1.05718208 -1.47960973]\n",
            " [ 0.76389312 -0.85446445]\n",
            " [-0.09872145  0.246982  ]\n",
            " [-1.72810452  0.48513259]\n",
            " [ 1.14727738 -0.76515798]\n",
            " [-0.86548995 -0.7949268 ]\n",
            " [ 2.10573801  0.96143375]\n",
            " [-0.29041357 -0.94377092]\n",
            " [ 0.76389312 -1.12238386]\n",
            " [ 1.81819982 -1.3009968 ]\n",
            " [ 0.85973919  1.11027787]\n",
            " [ 0.09297068 -0.82469563]\n",
            " [ 2.10573801  0.39582612]\n",
            " [ 1.91404588 -1.39030326]\n",
            " [-0.00287538 -0.43770093]\n",
            " [ 1.72235376  1.88426727]\n",
            " [-1.82395058  0.18744436]\n",
            " [ 1.3389695   1.31865963]\n",
            " [-0.29041357 -0.49723857]\n",
            " [ 1.53066163  0.00883142]\n",
            " [-1.15302814  0.42559494]\n",
            " [-1.34472027  0.57443905]\n",
            " [ 0.85973919 -0.55677622]\n",
            " [-0.86548995 -0.7949268 ]\n",
            " [ 0.09297068  0.03860024]]\n"
          ],
          "name": "stdout"
        }
      ]
    },
    {
      "cell_type": "code",
      "metadata": {
        "id": "KpGHbeiY89_a",
        "colab": {
          "base_uri": "https://localhost:8080/"
        },
        "outputId": "36894b46-8fee-427f-b4be-59af351a4ff3"
      },
      "source": [
        "print(X_test)"
      ],
      "execution_count": null,
      "outputs": [
        {
          "output_type": "stream",
          "text": [
            "[[ 0.18881674 -0.37816328]\n",
            " [-1.72810452  0.36605729]\n",
            " [ 1.91404588 -0.67585151]\n",
            " [ 0.09297068 -0.82469563]\n",
            " [ 0.09297068  0.27675082]\n",
            " [ 0.28466281  0.06836906]\n",
            " [-1.91979665 -0.5270074 ]\n",
            " [-0.67379782 -1.06284621]\n",
            " [-0.19456751  1.43773492]\n",
            " [-0.76964389  1.94380491]\n",
            " [ 1.62650769  1.7949608 ]\n",
            " [-0.09872145 -1.09261503]\n",
            " [-1.72810452  0.36605729]\n",
            " [-1.05718208  2.00334256]\n",
            " [ 0.95558525 -0.85446445]\n",
            " [-1.05718208  0.42559494]\n",
            " [ 0.38050887 -0.46746975]\n",
            " [-0.29041357 -0.37816328]\n",
            " [-0.29041357  0.06836906]\n",
            " [ 0.09297068 -0.25908799]\n",
            " [-1.05718208  0.54467023]\n",
            " [-1.2488742   0.51490141]\n",
            " [-0.76964389 -0.61631387]\n",
            " [ 1.43481557  2.1819555 ]\n",
            " [ 0.95558525 -1.21169033]\n",
            " [-0.96133601  0.42559494]\n",
            " [-1.15302814  0.33628847]\n",
            " [ 0.38050887 -0.49723857]\n",
            " [ 2.00989195  2.1819555 ]\n",
            " [-0.67379782 -1.53914738]\n",
            " [-1.15302814 -1.62845385]\n",
            " [ 0.85973919 -1.47960973]\n",
            " [-1.82395058 -1.50937856]\n",
            " [ 0.85973919 -0.67585151]\n",
            " [-0.4821057  -0.28885681]\n",
            " [-0.19456751 -0.19955034]\n",
            " [ 0.66804706 -1.12238386]\n",
            " [-1.91979665  0.48513259]\n",
            " [ 1.43481557  1.0209714 ]\n",
            " [ 0.47635493  1.76519198]\n",
            " [-0.67379782 -1.62845385]\n",
            " [ 0.38050887 -0.46746975]\n",
            " [-0.4821057  -0.85446445]\n",
            " [ 1.3389695   2.03311138]\n",
            " [ 0.76389312  0.27675082]\n",
            " [ 0.09297068  1.55681021]\n",
            " [ 0.18881674 -0.28885681]\n",
            " [ 1.24312344 -1.39030326]\n",
            " [ 0.95558525  1.91403609]\n",
            " [ 1.81819982 -0.28885681]\n",
            " [ 0.95558525  1.82472962]\n",
            " [-0.00287538  1.28889081]\n",
            " [ 1.81819982  1.55681021]\n",
            " [-1.2488742  -1.42007209]\n",
            " [ 0.28466281  0.30651965]\n",
            " [ 1.05143131  2.12241785]\n",
            " [ 0.38050887  0.09813789]\n",
            " [-0.67379782 -0.11024387]\n",
            " [ 0.38050887  0.30651965]\n",
            " [-0.4821057  -0.7949268 ]\n",
            " [-1.15302814 -1.12238386]\n",
            " [-1.2488742   0.27675082]\n",
            " [ 0.38050887  0.15767553]\n",
            " [-0.67379782  0.18744436]\n",
            " [-0.09872145  0.30651965]\n",
            " [ 0.18881674 -0.67585151]\n",
            " [ 0.95558525  2.03311138]\n",
            " [-1.72810452 -1.39030326]\n",
            " [ 0.18881674 -0.31862564]\n",
            " [ 0.85973919 -1.33076562]\n",
            " [-1.2488742   0.30651965]\n",
            " [-0.86548995  0.30651965]\n",
            " [-0.09872145  0.03860024]\n",
            " [-1.82395058 -1.44984091]\n",
            " [-1.53641239 -1.27122797]\n",
            " [-0.29041357  2.30103079]\n",
            " [ 0.76389312  1.4079661 ]\n",
            " [-1.72810452 -0.61631387]\n",
            " [ 0.18881674 -0.37816328]\n",
            " [-0.09872145  0.12790671]\n",
            " [-1.63225846  0.06836906]\n",
            " [ 0.66804706 -1.3009968 ]\n",
            " [ 2.00989195  0.39582612]\n",
            " [-0.00287538 -0.25908799]\n",
            " [-0.29041357  0.15767553]\n",
            " [ 0.18881674 -0.37816328]\n",
            " [-0.76964389  0.51490141]\n",
            " [-0.86548995  0.15767553]\n",
            " [-1.15302814 -1.5689162 ]\n",
            " [ 0.38050887  1.14004669]\n",
            " [ 0.18881674 -0.1400127 ]\n",
            " [ 0.28466281 -0.19955034]\n",
            " [-0.19456751 -0.28885681]\n",
            " [ 0.28466281 -1.1819215 ]\n",
            " [-0.4821057  -1.15215268]\n",
            " [-0.29041357  0.6339767 ]\n",
            " [-1.91979665 -0.76515798]\n",
            " [-1.91979665  0.36605729]\n",
            " [-0.00287538 -0.31862564]\n",
            " [-1.34472027 -1.27122797]]\n"
          ],
          "name": "stdout"
        }
      ]
    },
    {
      "cell_type": "code",
      "metadata": {
        "id": "o6pY_oFFIP9m",
        "colab": {
          "base_uri": "https://localhost:8080/"
        },
        "outputId": "1cc34155-abc5-4148-fd99-ee1f2a231e10"
      },
      "source": [
        "# Fitting SVM to the Training set\n",
        "from sklearn.svm import SVC\n",
        "classifier = SVC(kernel = 'linear', random_state = 0)\n",
        "classifier.fit(X_train, y_train)"
      ],
      "execution_count": null,
      "outputs": [
        {
          "output_type": "execute_result",
          "data": {
            "text/plain": [
              "SVC(kernel='linear', random_state=0)"
            ]
          },
          "metadata": {
            "tags": []
          },
          "execution_count": 23
        }
      ]
    },
    {
      "cell_type": "code",
      "metadata": {
        "id": "Ax2tc-DC9ePa"
      },
      "source": [
        "# Predicting the Test set results\n",
        "y_pred = classifier.predict(X_test)"
      ],
      "execution_count": null,
      "outputs": []
    },
    {
      "cell_type": "code",
      "metadata": {
        "id": "bRHq5nV4mXBq",
        "colab": {
          "base_uri": "https://localhost:8080/"
        },
        "outputId": "3f25e429-52b8-4c10-994c-09fcf91e167b"
      },
      "source": [
        "print(y_pred)"
      ],
      "execution_count": null,
      "outputs": [
        {
          "output_type": "stream",
          "text": [
            "[0 0 1 0 0 0 0 0 1 0 1 0 0 0 1 0 0 0 0 0 0 0 0 1 0 0 0 0 1 0 0 0 0 1 0 0 0\n",
            " 0 1 1 0 0 0 1 1 1 0 1 1 1 1 1 1 0 1 1 1 0 1 0 0 0 1 0 0 0 1 0 0 0 0 0 0 0\n",
            " 0 1 1 0 0 0 0 0 1 0 0 0 0 0 0 1 0 0 0 0 0 0 0 0 0 0]\n"
          ],
          "name": "stdout"
        }
      ]
    },
    {
      "cell_type": "code",
      "metadata": {
        "colab": {
          "base_uri": "https://localhost:8080/"
        },
        "id": "6eJPJR-7qvya",
        "outputId": "4e77e8d0-3c3b-4677-a989-f396fbc85f11"
      },
      "source": [
        "# Making the Confusion Matrix\n",
        "from sklearn.metrics import confusion_matrix\n",
        "cm = confusion_matrix(y_test, y_pred)\n",
        "print('Confusion matrix: ')\n",
        "print(cm)"
      ],
      "execution_count": null,
      "outputs": [
        {
          "output_type": "stream",
          "text": [
            "Confusion matrix: \n",
            "[[64  5]\n",
            " [ 8 23]]\n"
          ],
          "name": "stdout"
        }
      ]
    },
    {
      "cell_type": "code",
      "metadata": {
        "id": "YUwB46LkJWY8",
        "colab": {
          "base_uri": "https://localhost:8080/"
        },
        "outputId": "b90093a5-c913-41ab-9afa-6b3eff0963e2"
      },
      "source": [
        "# calculate Accuracy\n",
        "# calculate Accuracy\n",
        "#   0   1\n",
        "# 0[66  2(FP type 1)]\n",
        "#1 [8(FN Type 24) 23]\n",
        "from sklearn.metrics import accuracy_score\n",
        "print('Accuracy: %.2f' % (accuracy_score(y_test, y_pred)*100))"
      ],
      "execution_count": null,
      "outputs": [
        {
          "output_type": "stream",
          "text": [
            "Accuracy: 87.00\n"
          ],
          "name": "stdout"
        }
      ]
    },
    {
      "cell_type": "code",
      "metadata": {
        "colab": {
          "base_uri": "https://localhost:8080/"
        },
        "id": "y-_wO3A5rBAF",
        "outputId": "22c2e97a-ac06-4179-f0d4-76889cc0d79e"
      },
      "source": [
        "from sklearn.metrics import precision_score\n",
        "from sklearn.metrics import recall_score\n",
        "from sklearn.metrics import f1_score\n",
        "# calculate precision\n",
        "# Precision = TruePositives / (TruePositives + FalsePositives) \n",
        "# calculate Accuracy\n",
        "#   0   1\n",
        "# 0[59  7(FP type 1)]\n",
        "#1 [ 11(FN Type 2) 23]= 23/30\n",
        "precision = precision_score(y_test, y_pred, average='binary')\n",
        "print('Precision: %.2f' % (precision))"
      ],
      "execution_count": null,
      "outputs": [
        {
          "output_type": "stream",
          "text": [
            "Precision: 0.82\n"
          ],
          "name": "stdout"
        }
      ]
    },
    {
      "cell_type": "code",
      "metadata": {
        "colab": {
          "base_uri": "https://localhost:8080/"
        },
        "id": "Ok5t3x-brDoV",
        "outputId": "d2f41604-55cb-4a8d-9d93-5d43f5286a62"
      },
      "source": [
        "# calculate recall\n",
        "# Recall = TruePositives / (TruePositives + FalseNegatives)\n",
        "# calculate Accuracy\n",
        "#   0   1\n",
        "# 0[59  7(FP type 1)]\n",
        "#1 [ 11(FN Type 2) 23]= 23/23+11\n",
        "recall = recall_score(y_test, y_pred, average='binary')\n",
        "print('Recall: %.3f' % (recall))"
      ],
      "execution_count": null,
      "outputs": [
        {
          "output_type": "stream",
          "text": [
            "Recall: 0.742\n"
          ],
          "name": "stdout"
        }
      ]
    },
    {
      "cell_type": "code",
      "metadata": {
        "colab": {
          "base_uri": "https://localhost:8080/"
        },
        "id": "oms2CktBrGEM",
        "outputId": "8fdccbe4-1b57-4fb9-8952-dfe3d0a870f7"
      },
      "source": [
        "# F-Measure = (2 * Precision * Recall) / (Precision + Recall)\n",
        "# (2*0.829*0.906)/0.829+0.906\n",
        "# calculate score\n",
        "score = f1_score(y_test, y_pred, average='binary')\n",
        "print('F-Measure: %.3f' % (score*100))"
      ],
      "execution_count": null,
      "outputs": [
        {
          "output_type": "stream",
          "text": [
            "F-Measure: 77.966\n"
          ],
          "name": "stdout"
        }
      ]
    },
    {
      "cell_type": "code",
      "metadata": {
        "id": "jYAwrup-Ha12",
        "colab": {
          "base_uri": "https://localhost:8080/",
          "height": 350
        },
        "outputId": "a5b58449-3809-4ae5-9d02-316b1fac514c"
      },
      "source": [
        "# Visualising the Training set results\n",
        "from matplotlib.colors import ListedColormap\n",
        "X_set, y_set = X_train, y_train\n",
        "X1, X2 = np.meshgrid(np.arange(start = X_set[:, 0].min() - 1, stop = X_set[:, 0].max() + 1, step = 0.01),\n",
        "                     np.arange(start = X_set[:, 1].min() - 1, stop = X_set[:, 1].max() + 1, step = 0.01))\n",
        "plt.contourf(X1, X2, classifier.predict(np.array([X1.ravel(), X2.ravel()]).T).reshape(X1.shape),\n",
        "             alpha = 0.75, cmap = ListedColormap(('red', 'green')))\n",
        "plt.xlim(X1.min(), X1.max())\n",
        "plt.ylim(X2.min(), X2.max())\n",
        "for i, j in enumerate(np.unique(y_set)):\n",
        "    plt.scatter(X_set[y_set == j, 0], X_set[y_set == j, 1],\n",
        "                c = ListedColormap(('red', 'green'))(i), label = j)\n",
        "plt.title('SVM (Training set)')\n",
        "plt.xlabel('Age')\n",
        "plt.ylabel('Estimated Salary')\n",
        "plt.legend()\n",
        "plt.show()"
      ],
      "execution_count": null,
      "outputs": [
        {
          "output_type": "stream",
          "text": [
            "*c* argument looks like a single numeric RGB or RGBA sequence, which should be avoided as value-mapping will have precedence in case its length matches with *x* & *y*.  Please use the *color* keyword-argument or provide a 2-D array with a single row if you intend to specify the same RGB or RGBA value for all points.\n",
            "*c* argument looks like a single numeric RGB or RGBA sequence, which should be avoided as value-mapping will have precedence in case its length matches with *x* & *y*.  Please use the *color* keyword-argument or provide a 2-D array with a single row if you intend to specify the same RGB or RGBA value for all points.\n"
          ],
          "name": "stderr"
        },
        {
          "output_type": "display_data",
          "data": {
            "image/png": "[encoded data removed]",
            "text/plain": [
              "<Figure size 432x288 with 1 Axes>"
            ]
          },
          "metadata": {
            "tags": [],
            "needs_background": "light"
          }
        }
      ]
    },
    {
      "cell_type": "code",
      "metadata": {
        "id": "VfxS6UU9H7AJ",
        "colab": {
          "base_uri": "https://localhost:8080/"
        },
        "outputId": "e128206b-5444-45f7-c441-1a5b6f29d3e6"
      },
      "source": [
        "# Fitting SVM to the Training set\n",
        "from sklearn.svm import SVC\n",
        "classifier = SVC(kernel = 'rbf', random_state = 0, probability=True)\n",
        "classifier.fit(X_train, y_train)"
      ],
      "execution_count": null,
      "outputs": [
        {
          "output_type": "execute_result",
          "data": {
            "text/plain": [
              "SVC(probability=True, random_state=0)"
            ]
          },
          "metadata": {
            "tags": []
          },
          "execution_count": 32
        }
      ]
    },
    {
      "cell_type": "code",
      "metadata": {
        "id": "kAnlidgYItFJ"
      },
      "source": [
        "# Predicting the Test set results\n",
        "y_pred = classifier.predict(X_test)"
      ],
      "execution_count": null,
      "outputs": []
    },
    {
      "cell_type": "code",
      "metadata": {
        "id": "iVvfvI6LJlMR",
        "colab": {
          "base_uri": "https://localhost:8080/"
        },
        "outputId": "7ce9a859-934d-4c55-8ac4-69f51edc17c0"
      },
      "source": [
        "# calculate Accuracy\n",
        "from sklearn.metrics import accuracy_score\n",
        "print('Accuracy: %.2f' % (accuracy_score(y_test, y_pred)*100))"
      ],
      "execution_count": null,
      "outputs": [
        {
          "output_type": "stream",
          "text": [
            "Accuracy: 96.00\n"
          ],
          "name": "stdout"
        }
      ]
    },
    {
      "cell_type": "code",
      "metadata": {
        "id": "D9jJgozkIwvu",
        "colab": {
          "base_uri": "https://localhost:8080/",
          "height": 350
        },
        "outputId": "dc493554-e770-4145-965f-f39b0aa7d0a9"
      },
      "source": [
        "# Visualising the Training set results\n",
        "from matplotlib.colors import ListedColormap\n",
        "X_set, y_set = X_train, y_train\n",
        "X1, X2 = np.meshgrid(np.arange(start = X_set[:, 0].min() - 1, stop = X_set[:, 0].max() + 1, step = 0.01),\n",
        "                     np.arange(start = X_set[:, 1].min() - 1, stop = X_set[:, 1].max() + 1, step = 0.01))\n",
        "plt.contourf(X1, X2, classifier.predict(np.array([X1.ravel(), X2.ravel()]).T).reshape(X1.shape),\n",
        "             alpha = 0.75, cmap = ListedColormap(('red', 'green')))\n",
        "plt.xlim(X1.min(), X1.max())\n",
        "plt.ylim(X2.min(), X2.max())\n",
        "for i, j in enumerate(np.unique(y_set)):\n",
        "    plt.scatter(X_set[y_set == j, 0], X_set[y_set == j, 1],\n",
        "                c = ListedColormap(('red', 'green'))(i), label = j)\n",
        "plt.title('SVM (Training set)')\n",
        "plt.xlabel('Age')\n",
        "plt.ylabel('Estimated Salary')\n",
        "plt.legend()\n",
        "plt.show()"
      ],
      "execution_count": null,
      "outputs": [
        {
          "output_type": "stream",
          "text": [
            "*c* argument looks like a single numeric RGB or RGBA sequence, which should be avoided as value-mapping will have precedence in case its length matches with *x* & *y*.  Please use the *color* keyword-argument or provide a 2-D array with a single row if you intend to specify the same RGB or RGBA value for all points.\n",
            "*c* argument looks like a single numeric RGB or RGBA sequence, which should be avoided as value-mapping will have precedence in case its length matches with *x* & *y*.  Please use the *color* keyword-argument or provide a 2-D array with a single row if you intend to specify the same RGB or RGBA value for all points.\n"
          ],
          "name": "stderr"
        },
        {
          "output_type": "display_data",
          "data": {
            "image/png": "[encoded data removed]",
            "text/plain": [
              "<Figure size 432x288 with 1 Axes>"
            ]
          },
          "metadata": {
            "tags": [],
            "needs_background": "light"
          }
        }
      ]
    },
    {
      "cell_type": "code",
      "metadata": {
        "id": "c2erPPSpI_sk",
        "colab": {
          "base_uri": "https://localhost:8080/",
          "height": 201
        },
        "outputId": "8b055e00-8005-4d67-9cd9-1d0b330d6169"
      },
      "source": [
        "# Fitting SVM to the Training set\n",
        "from sklearn.svm import SVC\n",
        "classifier = SVC(kernel = 'sigmoid', random_state = 0,probability=True)\n",
        "classifier.fit(X_train, y_train)"
      ],
      "execution_count": null,
      "outputs": [
        {
          "output_type": "error",
          "ename": "NameError",
          "evalue": "ignored",
          "traceback": [
            "\u001b[0;31m---------------------------------------------------------------------------\u001b[0m",
            "\u001b[0;31mNameError\u001b[0m                                 Traceback (most recent call last)",
            "\u001b[0;32m<ipython-input-19-ece90e9b848d>\u001b[0m in \u001b[0;36m<module>\u001b[0;34m()\u001b[0m\n\u001b[1;32m      2\u001b[0m \u001b[0;32mfrom\u001b[0m \u001b[0msklearn\u001b[0m\u001b[0;34m.\u001b[0m\u001b[0msvm\u001b[0m \u001b[0;32mimport\u001b[0m \u001b[0mSVC\u001b[0m\u001b[0;34m\u001b[0m\u001b[0;34m\u001b[0m\u001b[0m\n\u001b[1;32m      3\u001b[0m \u001b[0mclassifier\u001b[0m \u001b[0;34m=\u001b[0m \u001b[0mSVC\u001b[0m\u001b[0;34m(\u001b[0m\u001b[0mkernel\u001b[0m \u001b[0;34m=\u001b[0m \u001b[0;34m'sigmoid'\u001b[0m\u001b[0;34m,\u001b[0m \u001b[0mrandom_state\u001b[0m \u001b[0;34m=\u001b[0m \u001b[0;36m0\u001b[0m\u001b[0;34m,\u001b[0m\u001b[0mprobability\u001b[0m\u001b[0;34m=\u001b[0m\u001b[0;32mTrue\u001b[0m\u001b[0;34m)\u001b[0m\u001b[0;34m\u001b[0m\u001b[0;34m\u001b[0m\u001b[0m\n\u001b[0;32m----> 4\u001b[0;31m \u001b[0mclassifier\u001b[0m\u001b[0;34m.\u001b[0m\u001b[0mfit\u001b[0m\u001b[0;34m(\u001b[0m\u001b[0mX_train\u001b[0m\u001b[0;34m,\u001b[0m \u001b[0my_train\u001b[0m\u001b[0;34m)\u001b[0m\u001b[0;34m\u001b[0m\u001b[0;34m\u001b[0m\u001b[0m\n\u001b[0m",
            "\u001b[0;31mNameError\u001b[0m: name 'X_train' is not defined"
          ]
        }
      ]
    },
    {
      "cell_type": "code",
      "metadata": {
        "id": "qYKAC4I6JC9b"
      },
      "source": [
        "# Predicting the Test set results\n",
        "y_pred = classifier.predict(X_test)"
      ],
      "execution_count": null,
      "outputs": []
    },
    {
      "cell_type": "code",
      "metadata": {
        "id": "A4pr3HH8JskO",
        "colab": {
          "base_uri": "https://localhost:8080/"
        },
        "outputId": "8917a549-be0c-4cec-c54a-a53784880e5a"
      },
      "source": [
        "# calculate Accuracy\n",
        "from sklearn.metrics import accuracy_score\n",
        "print('Accuracy: %.2f' % (accuracy_score(y_test, y_pred)*100))"
      ],
      "execution_count": null,
      "outputs": [
        {
          "output_type": "stream",
          "text": [
            "Accuracy: 74.00\n"
          ],
          "name": "stdout"
        }
      ]
    },
    {
      "cell_type": "code",
      "metadata": {
        "id": "IUp36H0qJIqD",
        "colab": {
          "base_uri": "https://localhost:8080/",
          "height": 350
        },
        "outputId": "c63a2da1-cf13-4f76-d660-616c8fb7d7f3"
      },
      "source": [
        "# Visualising the Training set results\n",
        "from matplotlib.colors import ListedColormap\n",
        "X_set, y_set = X_train, y_train\n",
        "X1, X2 = np.meshgrid(np.arange(start = X_set[:, 0].min() - 1, stop = X_set[:, 0].max() + 1, step = 0.01),\n",
        "                     np.arange(start = X_set[:, 1].min() - 1, stop = X_set[:, 1].max() + 1, step = 0.01))\n",
        "plt.contourf(X1, X2, classifier.predict(np.array([X1.ravel(), X2.ravel()]).T).reshape(X1.shape),\n",
        "             alpha = 0.75, cmap = ListedColormap(('red', 'green')))\n",
        "plt.xlim(X1.min(), X1.max())\n",
        "plt.ylim(X2.min(), X2.max())\n",
        "for i, j in enumerate(np.unique(y_set)):\n",
        "    plt.scatter(X_set[y_set == j, 0], X_set[y_set == j, 1],\n",
        "                c = ListedColormap(('red', 'green'))(i), label = j)\n",
        "plt.title('SVM (Training set)')\n",
        "plt.xlabel('Age')\n",
        "plt.ylabel('Estimated Salary')\n",
        "plt.legend()\n",
        "plt.show()"
      ],
      "execution_count": null,
      "outputs": [
        {
          "output_type": "stream",
          "text": [
            "*c* argument looks like a single numeric RGB or RGBA sequence, which should be avoided as value-mapping will have precedence in case its length matches with *x* & *y*.  Please use the *color* keyword-argument or provide a 2-D array with a single row if you intend to specify the same RGB or RGBA value for all points.\n",
            "*c* argument looks like a single numeric RGB or RGBA sequence, which should be avoided as value-mapping will have precedence in case its length matches with *x* & *y*.  Please use the *color* keyword-argument or provide a 2-D array with a single row if you intend to specify the same RGB or RGBA value for all points.\n"
          ],
          "name": "stderr"
        },
        {
          "output_type": "display_data",
          "data": {
            "image/png": "[encoded data removed]",
            "text/plain": [
              "<Figure size 432x288 with 1 Axes>"
            ]
          },
          "metadata": {
            "tags": [],
            "needs_background": "light"
          }
        }
      ]
    },
    {
      "cell_type": "code",
      "metadata": {
        "id": "fapkzgOR9oFV",
        "colab": {
          "base_uri": "https://localhost:8080/"
        },
        "outputId": "b245a504-666f-4e5b-ab75-20552e513a8f"
      },
      "source": [
        "# Making the Confusion Matrix\n",
        "from sklearn.metrics import confusion_matrix\n",
        "cm = confusion_matrix(y_test, y_pred)\n",
        "print('Confusion matrix: ')\n",
        "print(cm)"
      ],
      "execution_count": null,
      "outputs": [
        {
          "output_type": "stream",
          "text": [
            "Confusion matrix: \n",
            "[[54 14]\n",
            " [12 20]]\n"
          ],
          "name": "stdout"
        }
      ]
    },
    {
      "cell_type": "code",
      "metadata": {
        "id": "THlm7D1z-Jux",
        "colab": {
          "base_uri": "https://localhost:8080/"
        },
        "outputId": "4c7f0f11-d840-42e0-de17-bad303ce4eea"
      },
      "source": [
        "# calculate Accuracy\n",
        "from sklearn.metrics import accuracy_score\n",
        "print('Accuracy: %.2f' % (accuracy_score(y_test, y_pred)*100))"
      ],
      "execution_count": null,
      "outputs": [
        {
          "output_type": "stream",
          "text": [
            "Accuracy: 74.00\n"
          ],
          "name": "stdout"
        }
      ]
    },
    {
      "cell_type": "code",
      "metadata": {
        "id": "nquS3pa4-lOH",
        "colab": {
          "base_uri": "https://localhost:8080/"
        },
        "outputId": "528f2eae-c4b5-47a7-9947-73e38c6a4a84"
      },
      "source": [
        "from sklearn.metrics import precision_score\n",
        "from sklearn.metrics import recall_score\n",
        "from sklearn.metrics import f1_score\n",
        "# calculate precision\n",
        "# Precision = TruePositives / (TruePositives + FalsePositives)\n",
        "precision = precision_score(y_test, y_pred, average='binary')\n",
        "print('Precision: %.3f' % (precision*100))"
      ],
      "execution_count": null,
      "outputs": [
        {
          "output_type": "stream",
          "text": [
            "Precision: 58.824\n"
          ],
          "name": "stdout"
        }
      ]
    },
    {
      "cell_type": "code",
      "metadata": {
        "id": "1EcT47xu-sNJ",
        "colab": {
          "base_uri": "https://localhost:8080/"
        },
        "outputId": "7c9b42e0-8bfa-4ad9-a621-43d165d2d63a"
      },
      "source": [
        "# calculate recall\n",
        "# Recall = TruePositives / (TruePositives + FalseNegatives)\n",
        "recall = recall_score(y_test, y_pred, average='binary')\n",
        "print('Recall: %.3f' % (recall*100))"
      ],
      "execution_count": null,
      "outputs": [
        {
          "output_type": "stream",
          "text": [
            "Recall: 62.500\n"
          ],
          "name": "stdout"
        }
      ]
    },
    {
      "cell_type": "code",
      "metadata": {
        "id": "82QxZrqD_At8",
        "colab": {
          "base_uri": "https://localhost:8080/"
        },
        "outputId": "3e0fa6f1-dca2-469a-92ec-805c6adcc141"
      },
      "source": [
        "# F-Measure = (2 * Precision * Recall) / (Precision + Recall)\n",
        "# calculate score\n",
        "score = f1_score(y_test, y_pred, average='binary')\n",
        "print('F-Measure: %.3f' % (score*100))"
      ],
      "execution_count": null,
      "outputs": [
        {
          "output_type": "stream",
          "text": [
            "F-Measure: 60.606\n"
          ],
          "name": "stdout"
        }
      ]
    },
    {
      "cell_type": "code",
      "metadata": {
        "id": "p_lqiaGqJifQ",
        "colab": {
          "base_uri": "https://localhost:8080/"
        },
        "outputId": "693d10c1-cf00-403d-8a15-3c1da881146a"
      },
      "source": [
        "\n",
        "age = 41 #@param {type:\"number\"}\n",
        "estimated_Salary = 15000 #@param {type:\"number\"}\n",
        "variable_name = \"12\" #@param {type:\"string\"}\n",
        "output=classifier.predict(sc.transform([[ age ,estimated_Salary ]]))\n",
        "print(\"Purchased =\", output)\n",
        "if output==[1]:\n",
        "  print( 'Custome will purchase Product')\n",
        "else:\n",
        "  print('Customer will not purchase computer')\n"
      ],
      "execution_count": null,
      "outputs": [
        {
          "output_type": "stream",
          "text": [
            "Purchased = [1]\n",
            "Custome will purchase Product\n"
          ],
          "name": "stdout"
        }
      ]
    },
    {
      "cell_type": "code",
      "metadata": {
        "id": "-vO2PW75dT75",
        "colab": {
          "base_uri": "https://localhost:8080/"
        },
        "outputId": "9945bf4d-d365-4020-e54b-e99efbb482c1"
      },
      "source": [
        "import pickle \n",
        "  \n",
        "# Save the trained model as a pickle string. \n",
        "saved_model = pickle.dumps(classifier) \n",
        "  \n",
        "# Load the pickled model \n",
        "model = pickle.loads(saved_model) \n",
        "  \n",
        "# Use the loaded pickled model to make predictions \n",
        "model.predict(X_test) "
      ],
      "execution_count": null,
      "outputs": [
        {
          "output_type": "execute_result",
          "data": {
            "text/plain": [
              "array([0, 0, 1, 0, 0, 0, 0, 0, 1, 1, 1, 0, 0, 1, 1, 0, 0, 0, 0, 0, 0, 0,\n",
              "       0, 1, 1, 0, 0, 0, 1, 0, 0, 1, 0, 1, 0, 0, 1, 0, 1, 1, 0, 0, 0, 1,\n",
              "       1, 1, 0, 1, 1, 1, 1, 1, 1, 0, 0, 1, 0, 0, 0, 0, 0, 0, 0, 0, 0, 0,\n",
              "       1, 0, 0, 1, 0, 0, 0, 0, 0, 1, 1, 0, 0, 0, 0, 1, 1, 0, 0, 0, 0, 0,\n",
              "       0, 1, 0, 0, 0, 0, 0, 0, 0, 0, 0, 0])"
            ]
          },
          "metadata": {
            "tags": []
          },
          "execution_count": 37
        }
      ]
    },
    {
      "cell_type": "code",
      "metadata": {
        "id": "zX87_5gbfdTk",
        "colab": {
          "base_uri": "https://localhost:8080/"
        },
        "outputId": "8a5842fe-50ea-41da-cb91-f913c99b8dcf"
      },
      "source": [
        "# save the model to disk\n",
        "import joblib\n",
        "filename = '/content/drive/My Drive/FDP/svm_model.sav'\n",
        "joblib.dump(classifier, filename)\n",
        " \n",
        "# some time later...\n",
        " \n",
        "# load the model from disk\n",
        "randomforest_model = joblib.load(filename)\n",
        "result = randomforest_model.score(X_test, y_test)\n",
        "print(\"Result is \" , result)"
      ],
      "execution_count": null,
      "outputs": [
        {
          "output_type": "stream",
          "text": [
            "Result is  0.96\n"
          ],
          "name": "stdout"
        }
      ]
    },
    {
      "cell_type": "code",
      "metadata": {
        "id": "K78NLLNLqjka",
        "colab": {
          "base_uri": "https://localhost:8080/"
        },
        "outputId": "95445184-248f-44f6-dbc5-6ec0002d642b"
      },
      "source": [
        "import pickle \n",
        "print(\"[INFO] Saving model...\")\n",
        "# Save the trained model as a pickle string. \n",
        "saved_model=pickle.dump(classifier,open('/content/drive/My Drive/svmmodel.pkl', 'wb')) \n",
        "# Saving model to disk"
      ],
      "execution_count": null,
      "outputs": [
        {
          "output_type": "stream",
          "text": [
            "[INFO] Saving model...\n"
          ],
          "name": "stdout"
        }
      ]
    },
    {
      "cell_type": "code",
      "metadata": {
        "id": "E85qTLz-qmJt",
        "colab": {
          "base_uri": "https://localhost:8080/"
        },
        "outputId": "f52b9f46-dab8-473b-bf2e-24f2326e6628"
      },
      "source": [
        "# Load the pickled model \n",
        "model = pickle.load(open('/content/drive/My Drive/svmmodel.pkl', 'rb'))  \n",
        "# Use the loaded pickled model to make predictions \n",
        "model.predict(X_test)"
      ],
      "execution_count": null,
      "outputs": [
        {
          "output_type": "execute_result",
          "data": {
            "text/plain": [
              "array([0, 0, 1, 0, 0, 0, 0, 0, 1, 1, 1, 0, 0, 1, 1, 0, 0, 0, 0, 0, 0, 0,\n",
              "       0, 1, 1, 0, 0, 0, 1, 0, 0, 1, 0, 1, 0, 0, 1, 0, 1, 1, 0, 0, 0, 1,\n",
              "       1, 1, 0, 1, 1, 1, 1, 1, 1, 0, 0, 1, 0, 0, 0, 0, 0, 0, 0, 0, 0, 0,\n",
              "       1, 0, 0, 1, 0, 0, 0, 0, 0, 1, 1, 0, 0, 0, 0, 1, 1, 0, 0, 0, 0, 0,\n",
              "       0, 1, 0, 0, 0, 0, 0, 0, 0, 0, 0, 0])"
            ]
          },
          "metadata": {
            "tags": []
          },
          "execution_count": 40
        }
      ]
    },
    {
      "cell_type": "code",
      "metadata": {
        "colab": {
          "base_uri": "https://localhost:8080/"
        },
        "id": "BQOwEmDWoez3",
        "outputId": "37c5484b-be30-481a-fd61-49315cf3381d"
      },
      "source": [
        "# Training the Random Forest Classification model on the Training set\n",
        "from sklearn.ensemble import RandomForestClassifier\n",
        "classifier = RandomForestClassifier(n_estimators = 300, criterion = 'entropy', random_state = 0)\n",
        "classifier.fit(X_train, y_train)"
      ],
      "execution_count": null,
      "outputs": [
        {
          "output_type": "execute_result",
          "data": {
            "text/plain": [
              "RandomForestClassifier(criterion='entropy', n_estimators=300, random_state=0)"
            ]
          },
          "metadata": {
            "tags": []
          },
          "execution_count": 41
        }
      ]
    },
    {
      "cell_type": "code",
      "metadata": {
        "id": "nQ3pbWaponNm"
      },
      "source": [
        "# Predicting the Test set results\n",
        "y_pred = classifier.predict(X_test)"
      ],
      "execution_count": null,
      "outputs": []
    },
    {
      "cell_type": "code",
      "metadata": {
        "colab": {
          "base_uri": "https://localhost:8080/"
        },
        "id": "GLuoOYS6oskd",
        "outputId": "82c7e2f6-6d49-408e-ec60-1333b3f72e33"
      },
      "source": [
        "# calculate Accuracy\n",
        "from sklearn.metrics import accuracy_score\n",
        "print('Accuracy: %.2f' % (accuracy_score(y_test, y_pred)*100))"
      ],
      "execution_count": null,
      "outputs": [
        {
          "output_type": "stream",
          "text": [
            "Accuracy: 91.00\n"
          ],
          "name": "stdout"
        }
      ]
    },
    {
      "cell_type": "code",
      "metadata": {
        "colab": {
          "base_uri": "https://localhost:8080/",
          "height": 350
        },
        "id": "Zn9Z-V8lo0Nt",
        "outputId": "58a73c1f-05d3-407a-c189-e93008db8beb"
      },
      "source": [
        "# Visualising the Training set results\n",
        "from matplotlib.colors import ListedColormap\n",
        "X_set, y_set = X_train, y_train\n",
        "X1, X2 = np.meshgrid(np.arange(start = X_set[:, 0].min() - 1, stop = X_set[:, 0].max() + 1, step = 0.01),\n",
        "                     np.arange(start = X_set[:, 1].min() - 1, stop = X_set[:, 1].max() + 1, step = 0.01))\n",
        "plt.contourf(X1, X2, classifier.predict(np.array([X1.ravel(), X2.ravel()]).T).reshape(X1.shape),\n",
        "             alpha = 0.75, cmap = ListedColormap(('red', 'green')))\n",
        "plt.xlim(X1.min(), X1.max())\n",
        "plt.ylim(X2.min(), X2.max())\n",
        "for i, j in enumerate(np.unique(y_set)):\n",
        "    plt.scatter(X_set[y_set == j, 0], X_set[y_set == j, 1],\n",
        "                c = ListedColormap(('red', 'green'))(i), label = j)\n",
        "plt.title('Random Forest (Training set)')\n",
        "plt.xlabel('Age')\n",
        "plt.ylabel('Estimated Salary')\n",
        "plt.legend()\n",
        "plt.show()"
      ],
      "execution_count": null,
      "outputs": [
        {
          "output_type": "stream",
          "text": [
            "*c* argument looks like a single numeric RGB or RGBA sequence, which should be avoided as value-mapping will have precedence in case its length matches with *x* & *y*.  Please use the *color* keyword-argument or provide a 2-D array with a single row if you intend to specify the same RGB or RGBA value for all points.\n",
            "*c* argument looks like a single numeric RGB or RGBA sequence, which should be avoided as value-mapping will have precedence in case its length matches with *x* & *y*.  Please use the *color* keyword-argument or provide a 2-D array with a single row if you intend to specify the same RGB or RGBA value for all points.\n"
          ],
          "name": "stderr"
        },
        {
          "output_type": "display_data",
          "data": {
            "image/png": "[encoded data removed]",
            "text/plain": [
              "<Figure size 432x288 with 1 Axes>"
            ]
          },
          "metadata": {
            "tags": [],
            "needs_background": "light"
          }
        }
      ]
    },
    {
      "cell_type": "code",
      "metadata": {
        "colab": {
          "base_uri": "https://localhost:8080/"
        },
        "id": "Klx3YdM0o5QE",
        "outputId": "7b151be3-688f-4ab9-f7a7-ed2d321460fd"
      },
      "source": [
        "# Making the Confusion Matrix\n",
        "from sklearn.metrics import confusion_matrix\n",
        "cm = confusion_matrix(y_test, y_pred)\n",
        "print('Confusion matrix: ')\n",
        "print(cm)"
      ],
      "execution_count": null,
      "outputs": [
        {
          "output_type": "stream",
          "text": [
            "Confusion matrix: \n",
            "[[66  3]\n",
            " [ 6 25]]\n"
          ],
          "name": "stdout"
        }
      ]
    },
    {
      "cell_type": "code",
      "metadata": {
        "colab": {
          "base_uri": "https://localhost:8080/"
        },
        "id": "h_6laMcco-gd",
        "outputId": "db818ed4-579c-4e6c-9dc7-59664f1a7aab"
      },
      "source": [
        "# calculate Accuracy\n",
        "from sklearn.metrics import accuracy_score\n",
        "print('Accuracy: %.2f' % (accuracy_score(y_test, y_pred)*100))"
      ],
      "execution_count": null,
      "outputs": [
        {
          "output_type": "stream",
          "text": [
            "Accuracy: 91.00\n"
          ],
          "name": "stdout"
        }
      ]
    },
    {
      "cell_type": "code",
      "metadata": {
        "colab": {
          "base_uri": "https://localhost:8080/"
        },
        "id": "vhJ3gArRpHwA",
        "outputId": "dbdb52e8-a2e1-41db-8aac-e9efc373c6a7"
      },
      "source": [
        "from sklearn.metrics import precision_score\n",
        "from sklearn.metrics import recall_score\n",
        "from sklearn.metrics import f1_score\n",
        "# calculate precision\n",
        "# Precision = TruePositives / (TruePositives + FalsePositives)\n",
        "precision = precision_score(y_test, y_pred, average='binary')\n",
        "print('Precision: %.3f' % (precision*100))"
      ],
      "execution_count": null,
      "outputs": [
        {
          "output_type": "stream",
          "text": [
            "Precision: 89.286\n"
          ],
          "name": "stdout"
        }
      ]
    },
    {
      "cell_type": "code",
      "metadata": {
        "colab": {
          "base_uri": "https://localhost:8080/"
        },
        "id": "w6309yEfpNT1",
        "outputId": "a6b199cd-894b-488a-b669-f0e378ec6705"
      },
      "source": [
        "# calculate recall\n",
        "# Recall = TruePositives / (TruePositives + FalseNegatives)\n",
        "recall = recall_score(y_test, y_pred, average='binary')\n",
        "print('Recall: %.3f' % (recall*100))"
      ],
      "execution_count": null,
      "outputs": [
        {
          "output_type": "stream",
          "text": [
            "Recall: 80.645\n"
          ],
          "name": "stdout"
        }
      ]
    },
    {
      "cell_type": "code",
      "metadata": {
        "colab": {
          "base_uri": "https://localhost:8080/"
        },
        "id": "yEEHRWIqpRWr",
        "outputId": "cfb8dcd1-fd64-4693-ea80-45f2c9b6716c"
      },
      "source": [
        "# F-Measure = (2 * Precision * Recall) / (Precision + Recall)\n",
        "# calculate score\n",
        "score = f1_score(y_test, y_pred, average='binary')\n",
        "print('F-Measure: %.3f' % (score*100))"
      ],
      "execution_count": null,
      "outputs": [
        {
          "output_type": "stream",
          "text": [
            "F-Measure: 84.746\n"
          ],
          "name": "stdout"
        }
      ]
    },
    {
      "cell_type": "code",
      "metadata": {
        "colab": {
          "base_uri": "https://localhost:8080/"
        },
        "id": "I9TS179WpV0Y",
        "outputId": "4a6a56ae-ffd1-4578-b872-e547ac6139ff"
      },
      "source": [
        "\n",
        "age = 41 #@param {type:\"number\"}\n",
        "estimated_Salary = 150000 #@param {type:\"number\"}\n",
        "output=classifier.predict(sc.transform([[ age ,estimated_Salary ]]))\n",
        "print(\"Perchased =\", output)\n",
        "if output==[1]:\n",
        "  print( 'Custome will purchase Product')\n",
        "else:\n",
        "  print('Customer will not purchase computer')\n"
      ],
      "execution_count": null,
      "outputs": [
        {
          "output_type": "stream",
          "text": [
            "Perchased = [1]\n",
            "Custome will purchase Product\n"
          ],
          "name": "stdout"
        }
      ]
    },
    {
      "cell_type": "code",
      "metadata": {
        "colab": {
          "base_uri": "https://localhost:8080/"
        },
        "id": "nt2OAJUvpaSa",
        "outputId": "704fc26f-23c8-43a6-f141-9a0252568da2"
      },
      "source": [
        "import pickle \n",
        "print(\"[INFO] Saving model...\")\n",
        "# Save the trained model as a pickle string. \n",
        "saved_model=pickle.dump(classifier,open('/content/drive/My Drive/randomforest.pkl', 'wb')) \n",
        "# Saving model to disk"
      ],
      "execution_count": null,
      "outputs": [
        {
          "output_type": "stream",
          "text": [
            "[INFO] Saving model...\n"
          ],
          "name": "stdout"
        }
      ]
    },
    {
      "cell_type": "code",
      "metadata": {
        "colab": {
          "base_uri": "https://localhost:8080/"
        },
        "id": "1BQgVXdEqpaV",
        "outputId": "e41007ad-7c8d-4b97-abac-1c11f199fd22"
      },
      "source": [
        "# Load the pickled model \n",
        "model = pickle.load(open('/content/drive/My Drive/randomforest.pkl', 'rb'))  \n",
        "# Use the loaded pickled model to make predictions \n",
        "model.predict(X_test)"
      ],
      "execution_count": null,
      "outputs": [
        {
          "output_type": "execute_result",
          "data": {
            "text/plain": [
              "array([0, 0, 1, 0, 0, 0, 0, 0, 1, 1, 1, 0, 0, 1, 1, 0, 0, 0, 0, 0, 0, 0,\n",
              "       0, 1, 1, 0, 0, 0, 1, 0, 0, 1, 0, 1, 0, 0, 1, 0, 1, 1, 0, 0, 0, 1,\n",
              "       0, 1, 0, 1, 0, 1, 1, 0, 1, 0, 0, 0, 0, 0, 1, 0, 0, 0, 0, 0, 0, 0,\n",
              "       1, 0, 0, 1, 0, 0, 0, 0, 0, 1, 1, 0, 0, 0, 0, 1, 1, 0, 0, 0, 0, 0,\n",
              "       0, 1, 0, 0, 0, 0, 0, 0, 0, 0, 0, 0])"
            ]
          },
          "metadata": {
            "tags": []
          },
          "execution_count": 56
        }
      ]
    },
    {
      "cell_type": "code",
      "metadata": {
        "id": "cv5Q2j2MpjS4"
      },
      "source": [
        "# Predicting the Test set results\n",
        "y_pred = classifier.predict(X_test)"
      ],
      "execution_count": null,
      "outputs": []
    },
    {
      "cell_type": "code",
      "metadata": {
        "id": "viTUT17xqpPX",
        "colab": {
          "base_uri": "https://localhost:8080/"
        },
        "outputId": "972c48fa-5487-4a48-80ce-c5de9d47ebea"
      },
      "source": [
        "!pip install streamlit"
      ],
      "execution_count": null,
      "outputs": [
        {
          "output_type": "stream",
          "text": [
            "Requirement already satisfied: streamlit in /usr/local/lib/python3.7/dist-packages (0.80.0)\n",
            "Requirement already satisfied: blinker in /usr/local/lib/python3.7/dist-packages (from streamlit) (1.4)\n",
            "Requirement already satisfied: pandas>=0.21.0 in /usr/local/lib/python3.7/dist-packages (from streamlit) (1.1.5)\n",
            "Requirement already satisfied: requests in /usr/local/lib/python3.7/dist-packages (from streamlit) (2.23.0)\n",
            "Requirement already satisfied: tzlocal in /usr/local/lib/python3.7/dist-packages (from streamlit) (1.5.1)\n",
            "Requirement already satisfied: watchdog; platform_system != \"Darwin\" in /usr/local/lib/python3.7/dist-packages (from streamlit) (2.0.2)\n",
            "Requirement already satisfied: gitpython in /usr/local/lib/python3.7/dist-packages (from streamlit) (3.1.14)\n",
            "Requirement already satisfied: python-dateutil in /usr/local/lib/python3.7/dist-packages (from streamlit) (2.8.1)\n",
            "Requirement already satisfied: cachetools>=4.0 in /usr/local/lib/python3.7/dist-packages (from streamlit) (4.2.1)\n",
            "Requirement already satisfied: tornado>=5.0 in /usr/local/lib/python3.7/dist-packages (from streamlit) (5.1.1)\n",
            "Requirement already satisfied: protobuf!=3.11,>=3.6.0 in /usr/local/lib/python3.7/dist-packages (from streamlit) (3.12.4)\n",
            "Requirement already satisfied: validators in /usr/local/lib/python3.7/dist-packages (from streamlit) (0.18.2)\n",
            "Requirement already satisfied: altair>=3.2.0 in /usr/local/lib/python3.7/dist-packages (from streamlit) (4.1.0)\n",
            "Requirement already satisfied: click>=7.0 in /usr/local/lib/python3.7/dist-packages (from streamlit) (7.1.2)\n",
            "Requirement already satisfied: pydeck>=0.1.dev5 in /usr/local/lib/python3.7/dist-packages (from streamlit) (0.6.2)\n",
            "Requirement already satisfied: pillow>=6.2.0 in /usr/local/lib/python3.7/dist-packages (from streamlit) (7.1.2)\n",
            "Requirement already satisfied: toml in /usr/local/lib/python3.7/dist-packages (from streamlit) (0.10.2)\n",
            "Requirement already satisfied: packaging in /usr/local/lib/python3.7/dist-packages (from streamlit) (20.9)\n",
            "Requirement already satisfied: numpy in /usr/local/lib/python3.7/dist-packages (from streamlit) (1.19.5)\n",
            "Requirement already satisfied: pyarrow; python_version < \"3.9\" in /usr/local/lib/python3.7/dist-packages (from streamlit) (3.0.0)\n",
            "Requirement already satisfied: astor in /usr/local/lib/python3.7/dist-packages (from streamlit) (0.8.1)\n",
            "Requirement already satisfied: base58 in /usr/local/lib/python3.7/dist-packages (from streamlit) (2.1.0)\n",
            "Requirement already satisfied: pytz>=2017.2 in /usr/local/lib/python3.7/dist-packages (from pandas>=0.21.0->streamlit) (2018.9)\n",
            "Requirement already satisfied: certifi>=2017.4.17 in /usr/local/lib/python3.7/dist-packages (from requests->streamlit) (2020.12.5)\n",
            "Requirement already satisfied: urllib3!=1.25.0,!=1.25.1,<1.26,>=1.21.1 in /usr/local/lib/python3.7/dist-packages (from requests->streamlit) (1.24.3)\n",
            "Requirement already satisfied: chardet<4,>=3.0.2 in /usr/local/lib/python3.7/dist-packages (from requests->streamlit) (3.0.4)\n",
            "Requirement already satisfied: idna<3,>=2.5 in /usr/local/lib/python3.7/dist-packages (from requests->streamlit) (2.10)\n",
            "Requirement already satisfied: gitdb<5,>=4.0.1 in /usr/local/lib/python3.7/dist-packages (from gitpython->streamlit) (4.0.7)\n",
            "Requirement already satisfied: six>=1.5 in /usr/local/lib/python3.7/dist-packages (from python-dateutil->streamlit) (1.15.0)\n",
            "Requirement already satisfied: setuptools in /usr/local/lib/python3.7/dist-packages (from protobuf!=3.11,>=3.6.0->streamlit) (54.2.0)\n",
            "Requirement already satisfied: decorator>=3.4.0 in /usr/local/lib/python3.7/dist-packages (from validators->streamlit) (4.4.2)\n",
            "Requirement already satisfied: jinja2 in /usr/local/lib/python3.7/dist-packages (from altair>=3.2.0->streamlit) (2.11.3)\n",
            "Requirement already satisfied: toolz in /usr/local/lib/python3.7/dist-packages (from altair>=3.2.0->streamlit) (0.11.1)\n",
            "Requirement already satisfied: jsonschema in /usr/local/lib/python3.7/dist-packages (from altair>=3.2.0->streamlit) (2.6.0)\n",
            "Requirement already satisfied: entrypoints in /usr/local/lib/python3.7/dist-packages (from altair>=3.2.0->streamlit) (0.3)\n",
            "Requirement already satisfied: traitlets>=4.3.2 in /usr/local/lib/python3.7/dist-packages (from pydeck>=0.1.dev5->streamlit) (5.0.5)\n",
            "Requirement already satisfied: ipywidgets>=7.0.0 in /usr/local/lib/python3.7/dist-packages (from pydeck>=0.1.dev5->streamlit) (7.6.3)\n",
            "Requirement already satisfied: ipykernel>=5.1.2; python_version >= \"3.4\" in /usr/local/lib/python3.7/dist-packages (from pydeck>=0.1.dev5->streamlit) (5.5.3)\n",
            "Requirement already satisfied: pyparsing>=2.0.2 in /usr/local/lib/python3.7/dist-packages (from packaging->streamlit) (2.4.7)\n",
            "Requirement already satisfied: smmap<5,>=3.0.1 in /usr/local/lib/python3.7/dist-packages (from gitdb<5,>=4.0.1->gitpython->streamlit) (4.0.0)\n",
            "Requirement already satisfied: MarkupSafe>=0.23 in /usr/local/lib/python3.7/dist-packages (from jinja2->altair>=3.2.0->streamlit) (1.1.1)\n",
            "Requirement already satisfied: ipython-genutils in /usr/local/lib/python3.7/dist-packages (from traitlets>=4.3.2->pydeck>=0.1.dev5->streamlit) (0.2.0)\n",
            "Requirement already satisfied: nbformat>=4.2.0 in /usr/local/lib/python3.7/dist-packages (from ipywidgets>=7.0.0->pydeck>=0.1.dev5->streamlit) (5.1.3)\n",
            "Requirement already satisfied: widgetsnbextension~=3.5.0 in /usr/local/lib/python3.7/dist-packages (from ipywidgets>=7.0.0->pydeck>=0.1.dev5->streamlit) (3.5.1)\n",
            "Requirement already satisfied: jupyterlab-widgets>=1.0.0; python_version >= \"3.6\" in /usr/local/lib/python3.7/dist-packages (from ipywidgets>=7.0.0->pydeck>=0.1.dev5->streamlit) (1.0.0)\n",
            "Requirement already satisfied: ipython>=4.0.0; python_version >= \"3.3\" in /usr/local/lib/python3.7/dist-packages (from ipywidgets>=7.0.0->pydeck>=0.1.dev5->streamlit) (5.5.0)\n",
            "Requirement already satisfied: jupyter-client in /usr/local/lib/python3.7/dist-packages (from ipykernel>=5.1.2; python_version >= \"3.4\"->pydeck>=0.1.dev5->streamlit) (5.3.5)\n",
            "Requirement already satisfied: jupyter-core in /usr/local/lib/python3.7/dist-packages (from nbformat>=4.2.0->ipywidgets>=7.0.0->pydeck>=0.1.dev5->streamlit) (4.7.1)\n",
            "Requirement already satisfied: notebook>=4.4.1 in /usr/local/lib/python3.7/dist-packages (from widgetsnbextension~=3.5.0->ipywidgets>=7.0.0->pydeck>=0.1.dev5->streamlit) (5.3.1)\n",
            "Requirement already satisfied: prompt-toolkit<2.0.0,>=1.0.4 in /usr/local/lib/python3.7/dist-packages (from ipython>=4.0.0; python_version >= \"3.3\"->ipywidgets>=7.0.0->pydeck>=0.1.dev5->streamlit) (1.0.18)\n",
            "Requirement already satisfied: pickleshare in /usr/local/lib/python3.7/dist-packages (from ipython>=4.0.0; python_version >= \"3.3\"->ipywidgets>=7.0.0->pydeck>=0.1.dev5->streamlit) (0.7.5)\n",
            "Requirement already satisfied: pygments in /usr/local/lib/python3.7/dist-packages (from ipython>=4.0.0; python_version >= \"3.3\"->ipywidgets>=7.0.0->pydeck>=0.1.dev5->streamlit) (2.6.1)\n",
            "Requirement already satisfied: simplegeneric>0.8 in /usr/local/lib/python3.7/dist-packages (from ipython>=4.0.0; python_version >= \"3.3\"->ipywidgets>=7.0.0->pydeck>=0.1.dev5->streamlit) (0.8.1)\n",
            "Requirement already satisfied: pexpect; sys_platform != \"win32\" in /usr/local/lib/python3.7/dist-packages (from ipython>=4.0.0; python_version >= \"3.3\"->ipywidgets>=7.0.0->pydeck>=0.1.dev5->streamlit) (4.8.0)\n",
            "Requirement already satisfied: pyzmq>=13 in /usr/local/lib/python3.7/dist-packages (from jupyter-client->ipykernel>=5.1.2; python_version >= \"3.4\"->pydeck>=0.1.dev5->streamlit) (22.0.3)\n",
            "Requirement already satisfied: nbconvert in /usr/local/lib/python3.7/dist-packages (from notebook>=4.4.1->widgetsnbextension~=3.5.0->ipywidgets>=7.0.0->pydeck>=0.1.dev5->streamlit) (5.6.1)\n",
            "Requirement already satisfied: terminado>=0.8.1 in /usr/local/lib/python3.7/dist-packages (from notebook>=4.4.1->widgetsnbextension~=3.5.0->ipywidgets>=7.0.0->pydeck>=0.1.dev5->streamlit) (0.9.4)\n",
            "Requirement already satisfied: Send2Trash in /usr/local/lib/python3.7/dist-packages (from notebook>=4.4.1->widgetsnbextension~=3.5.0->ipywidgets>=7.0.0->pydeck>=0.1.dev5->streamlit) (1.5.0)\n",
            "Requirement already satisfied: wcwidth in /usr/local/lib/python3.7/dist-packages (from prompt-toolkit<2.0.0,>=1.0.4->ipython>=4.0.0; python_version >= \"3.3\"->ipywidgets>=7.0.0->pydeck>=0.1.dev5->streamlit) (0.2.5)\n",
            "Requirement already satisfied: ptyprocess>=0.5 in /usr/local/lib/python3.7/dist-packages (from pexpect; sys_platform != \"win32\"->ipython>=4.0.0; python_version >= \"3.3\"->ipywidgets>=7.0.0->pydeck>=0.1.dev5->streamlit) (0.7.0)\n",
            "Requirement already satisfied: defusedxml in /usr/local/lib/python3.7/dist-packages (from nbconvert->notebook>=4.4.1->widgetsnbextension~=3.5.0->ipywidgets>=7.0.0->pydeck>=0.1.dev5->streamlit) (0.7.1)\n",
            "Requirement already satisfied: bleach in /usr/local/lib/python3.7/dist-packages (from nbconvert->notebook>=4.4.1->widgetsnbextension~=3.5.0->ipywidgets>=7.0.0->pydeck>=0.1.dev5->streamlit) (3.3.0)\n",
            "Requirement already satisfied: pandocfilters>=1.4.1 in /usr/local/lib/python3.7/dist-packages (from nbconvert->notebook>=4.4.1->widgetsnbextension~=3.5.0->ipywidgets>=7.0.0->pydeck>=0.1.dev5->streamlit) (1.4.3)\n",
            "Requirement already satisfied: mistune<2,>=0.8.1 in /usr/local/lib/python3.7/dist-packages (from nbconvert->notebook>=4.4.1->widgetsnbextension~=3.5.0->ipywidgets>=7.0.0->pydeck>=0.1.dev5->streamlit) (0.8.4)\n",
            "Requirement already satisfied: testpath in /usr/local/lib/python3.7/dist-packages (from nbconvert->notebook>=4.4.1->widgetsnbextension~=3.5.0->ipywidgets>=7.0.0->pydeck>=0.1.dev5->streamlit) (0.4.4)\n",
            "Requirement already satisfied: webencodings in /usr/local/lib/python3.7/dist-packages (from bleach->nbconvert->notebook>=4.4.1->widgetsnbextension~=3.5.0->ipywidgets>=7.0.0->pydeck>=0.1.dev5->streamlit) (0.5.1)\n"
          ],
          "name": "stdout"
        }
      ]
    },
    {
      "cell_type": "code",
      "metadata": {
        "id": "QVb_WA3FqsQC",
        "colab": {
          "base_uri": "https://localhost:8080/"
        },
        "outputId": "9bd6861d-dd4f-41ef-e290-310938baaa1e"
      },
      "source": [
        "# Mounting Google Drive\n",
        "from google.colab import drive\n",
        "drive.mount('/content/drive')"
      ],
      "execution_count": null,
      "outputs": [
        {
          "output_type": "stream",
          "text": [
            "Drive already mounted at /content/drive; to attempt to forcibly remount, call drive.mount(\"/content/drive\", force_remount=True).\n"
          ],
          "name": "stdout"
        }
      ]
    },
    {
      "cell_type": "code",
      "metadata": {
        "id": "M4qnfH9RquuZ",
        "colab": {
          "base_uri": "https://localhost:8080/"
        },
        "outputId": "3659188f-a662-40aa-fff5-90cf1c46debd"
      },
      "source": [
        "!pip install pyngrok"
      ],
      "execution_count": null,
      "outputs": [
        {
          "output_type": "stream",
          "text": [
            "Collecting pyngrok\n",
            "\u001b[?25l  Downloading https://files.pythonhosted.org/packages/6b/4e/a2fe095bbe17cf26424c4abcd22a0490e22d01cc628f25af5e220ddbf6f0/pyngrok-5.0.5.tar.gz (745kB)\n",
            "\r\u001b[K     |▍                               | 10kB 15.6MB/s eta 0:00:01\r\u001b[K     |▉                               | 20kB 18.1MB/s eta 0:00:01\r\u001b[K     |█▎                              | 30kB 14.3MB/s eta 0:00:01\r\u001b[K     |█▊                              | 40kB 13.2MB/s eta 0:00:01\r\u001b[K     |██▏                             | 51kB 9.2MB/s eta 0:00:01\r\u001b[K     |██▋                             | 61kB 8.7MB/s eta 0:00:01\r\u001b[K     |███                             | 71kB 9.6MB/s eta 0:00:01\r\u001b[K     |███▌                            | 81kB 10.6MB/s eta 0:00:01\r\u001b[K     |████                            | 92kB 9.3MB/s eta 0:00:01\r\u001b[K     |████▍                           | 102kB 8.6MB/s eta 0:00:01\r\u001b[K     |████▉                           | 112kB 8.6MB/s eta 0:00:01\r\u001b[K     |█████▎                          | 122kB 8.6MB/s eta 0:00:01\r\u001b[K     |█████▊                          | 133kB 8.6MB/s eta 0:00:01\r\u001b[K     |██████▏                         | 143kB 8.6MB/s eta 0:00:01\r\u001b[K     |██████▋                         | 153kB 8.6MB/s eta 0:00:01\r\u001b[K     |███████                         | 163kB 8.6MB/s eta 0:00:01\r\u001b[K     |███████▌                        | 174kB 8.6MB/s eta 0:00:01\r\u001b[K     |████████                        | 184kB 8.6MB/s eta 0:00:01\r\u001b[K     |████████▍                       | 194kB 8.6MB/s eta 0:00:01\r\u001b[K     |████████▉                       | 204kB 8.6MB/s eta 0:00:01\r\u001b[K     |█████████▎                      | 215kB 8.6MB/s eta 0:00:01\r\u001b[K     |█████████▊                      | 225kB 8.6MB/s eta 0:00:01\r\u001b[K     |██████████▏                     | 235kB 8.6MB/s eta 0:00:01\r\u001b[K     |██████████▌                     | 245kB 8.6MB/s eta 0:00:01\r\u001b[K     |███████████                     | 256kB 8.6MB/s eta 0:00:01\r\u001b[K     |███████████▍                    | 266kB 8.6MB/s eta 0:00:01\r\u001b[K     |███████████▉                    | 276kB 8.6MB/s eta 0:00:01\r\u001b[K     |████████████▎                   | 286kB 8.6MB/s eta 0:00:01\r\u001b[K     |████████████▊                   | 296kB 8.6MB/s eta 0:00:01\r\u001b[K     |█████████████▏                  | 307kB 8.6MB/s eta 0:00:01\r\u001b[K     |█████████████▋                  | 317kB 8.6MB/s eta 0:00:01\r\u001b[K     |██████████████                  | 327kB 8.6MB/s eta 0:00:01\r\u001b[K     |██████████████▌                 | 337kB 8.6MB/s eta 0:00:01\r\u001b[K     |███████████████                 | 348kB 8.6MB/s eta 0:00:01\r\u001b[K     |███████████████▍                | 358kB 8.6MB/s eta 0:00:01\r\u001b[K     |███████████████▉                | 368kB 8.6MB/s eta 0:00:01\r\u001b[K     |████████████████▎               | 378kB 8.6MB/s eta 0:00:01\r\u001b[K     |████████████████▊               | 389kB 8.6MB/s eta 0:00:01\r\u001b[K     |█████████████████▏              | 399kB 8.6MB/s eta 0:00:01\r\u001b[K     |█████████████████▋              | 409kB 8.6MB/s eta 0:00:01\r\u001b[K     |██████████████████              | 419kB 8.6MB/s eta 0:00:01\r\u001b[K     |██████████████████▌             | 430kB 8.6MB/s eta 0:00:01\r\u001b[K     |███████████████████             | 440kB 8.6MB/s eta 0:00:01\r\u001b[K     |███████████████████▍            | 450kB 8.6MB/s eta 0:00:01\r\u001b[K     |███████████████████▉            | 460kB 8.6MB/s eta 0:00:01\r\u001b[K     |████████████████████▎           | 471kB 8.6MB/s eta 0:00:01\r\u001b[K     |████████████████████▊           | 481kB 8.6MB/s eta 0:00:01\r\u001b[K     |█████████████████████           | 491kB 8.6MB/s eta 0:00:01\r\u001b[K     |█████████████████████▌          | 501kB 8.6MB/s eta 0:00:01\r\u001b[K     |██████████████████████          | 512kB 8.6MB/s eta 0:00:01\r\u001b[K     |██████████████████████▍         | 522kB 8.6MB/s eta 0:00:01\r\u001b[K     |██████████████████████▉         | 532kB 8.6MB/s eta 0:00:01\r\u001b[K     |███████████████████████▎        | 542kB 8.6MB/s eta 0:00:01\r\u001b[K     |███████████████████████▊        | 552kB 8.6MB/s eta 0:00:01\r\u001b[K     |████████████████████████▏       | 563kB 8.6MB/s eta 0:00:01\r\u001b[K     |████████████████████████▋       | 573kB 8.6MB/s eta 0:00:01\r\u001b[K     |█████████████████████████       | 583kB 8.6MB/s eta 0:00:01\r\u001b[K     |█████████████████████████▌      | 593kB 8.6MB/s eta 0:00:01\r\u001b[K     |██████████████████████████      | 604kB 8.6MB/s eta 0:00:01\r\u001b[K     |██████████████████████████▍     | 614kB 8.6MB/s eta 0:00:01\r\u001b[K     |██████████████████████████▉     | 624kB 8.6MB/s eta 0:00:01\r\u001b[K     |███████████████████████████▎    | 634kB 8.6MB/s eta 0:00:01\r\u001b[K     |███████████████████████████▊    | 645kB 8.6MB/s eta 0:00:01\r\u001b[K     |████████████████████████████▏   | 655kB 8.6MB/s eta 0:00:01\r\u001b[K     |████████████████████████████▋   | 665kB 8.6MB/s eta 0:00:01\r\u001b[K     |█████████████████████████████   | 675kB 8.6MB/s eta 0:00:01\r\u001b[K     |█████████████████████████████▌  | 686kB 8.6MB/s eta 0:00:01\r\u001b[K     |██████████████████████████████  | 696kB 8.6MB/s eta 0:00:01\r\u001b[K     |██████████████████████████████▍ | 706kB 8.6MB/s eta 0:00:01\r\u001b[K     |██████████████████████████████▉ | 716kB 8.6MB/s eta 0:00:01\r\u001b[K     |███████████████████████████████▏| 727kB 8.6MB/s eta 0:00:01\r\u001b[K     |███████████████████████████████▋| 737kB 8.6MB/s eta 0:00:01\r\u001b[K     |████████████████████████████████| 747kB 8.6MB/s \n",
            "\u001b[?25hRequirement already satisfied: PyYAML in /usr/local/lib/python3.7/dist-packages (from pyngrok) (3.13)\n",
            "Building wheels for collected packages: pyngrok\n",
            "  Building wheel for pyngrok (setup.py) ... \u001b[?25l\u001b[?25hdone\n",
            "  Created wheel for pyngrok: filename=pyngrok-5.0.5-cp37-none-any.whl size=19246 sha256=5cf89b27755d435f2c4be2c01724706d95db592683becb3f0a9d99d71a2d6cb2\n",
            "  Stored in directory: /root/.cache/pip/wheels/0c/13/64/5ebbcc22eaf53fdf5766b397c1fb17c83f5775fdccf0ea1b88\n",
            "Successfully built pyngrok\n",
            "Installing collected packages: pyngrok\n",
            "Successfully installed pyngrok-5.0.5\n"
          ],
          "name": "stdout"
        }
      ]
    },
    {
      "cell_type": "code",
      "metadata": {
        "id": "xlqH_JcIHWsG",
        "colab": {
          "base_uri": "https://localhost:8080/"
        },
        "outputId": "2386af24-1c5a-4bf5-c824-d3ad9b6d4ac7"
      },
      "source": [
        "!ngrok authtoken 1oEm0wopEJyjrT38ULluwUKK5fq_7ai4ZocZJ2YuFuoiJfoMh"
      ],
      "execution_count": null,
      "outputs": [
        {
          "output_type": "stream",
          "text": [
            "Authtoken saved to configuration file: /root/.ngrok2/ngrok.yml\n"
          ],
          "name": "stdout"
        }
      ]
    },
    {
      "cell_type": "code",
      "metadata": {
        "id": "EyUQAJNhq1G5",
        "colab": {
          "base_uri": "https://localhost:8080/"
        },
        "outputId": "92c62bbb-95fb-4b36-b2ca-26f01a5f6e75"
      },
      "source": [
        "%%writefile app.py\n",
        "import streamlit as st \n",
        "from PIL import Image\n",
        "import pickle\n",
        "import numpy as np\n",
        "import matplotlib.pyplot as plt\n",
        "import pandas as pd\n",
        "st.set_option('deprecation.showfileUploaderEncoding', False)\n",
        "# Load the pickled model\n",
        "model = pickle.load(open('/content/drive/My Drive/svmmodel.pkl', 'rb')) \n",
        "model_randomforest = pickle.load(open('/content/drive/My Drive/randomforest.pkl', 'rb')) \n",
        "dataset= pd.read_csv('/content/drive/My Drive/Social_Network_Ads.csv')\n",
        "X = dataset.iloc[:, [2, 3]].values\n",
        "from sklearn.preprocessing import StandardScaler\n",
        "sc = StandardScaler()\n",
        "X = sc.fit_transform(X)\n",
        "def predict_note_authentication(UserID, Gender,Age,EstimatedSalary):\n",
        "  output= model.predict(sc.transform([[Age,EstimatedSalary]]))\n",
        "  print(\"Purchased\", output)\n",
        "  if output==[1]:\n",
        "    prediction=\"Item will be purchased\"\n",
        "  else:\n",
        "    prediction=\"Item will not be purchased\"\n",
        "  print(prediction)\n",
        "  return prediction\n",
        "def predict_random(UserID, Gender,Age,EstimatedSalary):\n",
        "  output= model_randomforest.predict(sc.transform([[Age,EstimatedSalary]]))\n",
        "  print(\"Purchased\", output)\n",
        "  if output==[1]:\n",
        "    prediction=\"Item will be purchased\"\n",
        "  else:\n",
        "    prediction=\"Item will not be purchased\"\n",
        "  print(prediction)\n",
        "  return prediction\n",
        "def main():\n",
        "    \n",
        "    html_temp = \"\"\"\n",
        "   <div class=\"\" style=\"background-color:blue;\" >\n",
        "   <div class=\"clearfix\">           \n",
        "   <div class=\"col-md-12\">\n",
        "   <center><p style=\"font-size:40px;color:white;margin-top:10px;\">Poornima Institute of Engineering & Technology</p></center> \n",
        "   <center><p style=\"font-size:30px;color:white;margin-top:10px;\">Department of Computer Engineering</p></center> \n",
        "   <center><p style=\"font-size:25px;color:white;margin-top:10px;\"Machine Learning Lab Experiment</p></center> \n",
        "   </div>\n",
        "   </div>\n",
        "   </div>\n",
        "   \"\"\"\n",
        "    st.markdown(html_temp,unsafe_allow_html=True)\n",
        "    st.header(\"Item Purchase Prediction using SVM Algorithm\")\n",
        "    UserID = st.text_input(\"UserID\",\"\")\n",
        "    Gender = st.selectbox(\n",
        "    \"Gender\",\n",
        "    (\"Male\", \"Female\", \"Others\")\n",
        "    )\n",
        "    \n",
        "    Age = st.number_input('Insert a Age',18,60)\n",
        "    #Age = st.text_input(\"Age\",\"Type Here\")\n",
        "    EstimatedSalary = st.number_input(\"Insert EstimatedSalary\",15000,150000)\n",
        "    resul=\"\"\n",
        "    if st.button(\"SVM Prediction\"):\n",
        "      result=predict_note_authentication(UserID, Gender,Age,EstimatedSalary)\n",
        "      st.success('SVM Model has predicted {}'.format(result))\n",
        "    if st.button(\"Random Forest Prediction\"):\n",
        "      result=predict_random(UserID, Gender,Age,EstimatedSalary)\n",
        "      st.success('Random forest Model  has predicted {}'.format(result))  \n",
        "    if st.button(\"About\"):\n",
        "      st.header(\"Developed by Deepak Moud\")\n",
        "      st.subheader(\"Head , Department of Computer Engineering\")\n",
        "    html_temp = \"\"\"\n",
        "    <div class=\"\" style=\"background-color:orange;\" >\n",
        "    <div class=\"clearfix\">           \n",
        "    <div class=\"col-md-12\">\n",
        "    <center><p style=\"font-size:20px;color:white;margin-top:10px;\">Machine Learning Experiment 5: Support Vector Machine and Random Forest</p></center> \n",
        "    </div>\n",
        "    </div>\n",
        "    </div>\n",
        "    \"\"\"\n",
        "    st.markdown(html_temp,unsafe_allow_html=True)\n",
        "if __name__=='__main__':\n",
        "  main()"
      ],
      "execution_count": null,
      "outputs": [
        {
          "output_type": "stream",
          "text": [
            "Writing app.py\n"
          ],
          "name": "stdout"
        }
      ]
    },
    {
      "cell_type": "code",
      "metadata": {
        "id": "_m5SQjn_q3oz",
        "colab": {
          "base_uri": "https://localhost:8080/"
        },
        "outputId": "9dd0b0f2-65ab-4d28-b8f3-491e004b0839"
      },
      "source": [
        "!nohup streamlit run  app.py &"
      ],
      "execution_count": null,
      "outputs": [
        {
          "output_type": "stream",
          "text": [
            "nohup: appending output to 'nohup.out'\n"
          ],
          "name": "stdout"
        }
      ]
    },
    {
      "cell_type": "code",
      "metadata": {
        "id": "9GpD1lVJq6DR",
        "colab": {
          "base_uri": "https://localhost:8080/"
        },
        "outputId": "cd17e81e-e874-43ee-f316-e31a7c9c50c8"
      },
      "source": [
        "from pyngrok import ngrok\n",
        "url=ngrok.connect(port='8050')\n",
        "url"
      ],
      "execution_count": null,
      "outputs": [
        {
          "output_type": "execute_result",
          "data": {
            "text/plain": [
              "<NgrokTunnel: \"http://1973caa3631c.ngrok.io\" -> \"http://localhost:80\">"
            ]
          },
          "metadata": {
            "tags": []
          },
          "execution_count": 7
        }
      ]
    },
    {
      "cell_type": "code",
      "metadata": {
        "id": "w7QPlTBBq8HR",
        "colab": {
          "base_uri": "https://localhost:8080/"
        },
        "outputId": "71c64924-53bd-4b17-ad6e-3b86d965a7cc"
      },
      "source": [
        "!streamlit run --server.port 80 app.py"
      ],
      "execution_count": null,
      "outputs": [
        {
          "output_type": "stream",
          "text": [
            "2021-04-22 09:35:00.805 An update to the [server] config option section was detected. To have these changes be reflected, please restart streamlit.\n",
            "\u001b[0m\n",
            "\u001b[34m\u001b[1m  You can now view your Streamlit app in your browser.\u001b[0m\n",
            "\u001b[0m\n",
            "\u001b[34m  Network URL: \u001b[0m\u001b[1mhttp://172.28.0.2:80\u001b[0m\n",
            "\u001b[34m  External URL: \u001b[0m\u001b[1mhttp://34.125.137.201:80\u001b[0m\n",
            "\u001b[0m\n",
            "Purchased [0]\n",
            "Item will not be purchased\n",
            "Purchased [0]\n",
            "Item will not be purchased\n",
            "\u001b[34m  Stopping...\u001b[0m\n"
          ],
          "name": "stdout"
        }
      ]
    },
    {
      "cell_type": "code",
      "metadata": {
        "id": "b35civrQq-aF"
      },
      "source": [
        "ngrok.kill()"
      ],
      "execution_count": null,
      "outputs": []
    }
  ]
}